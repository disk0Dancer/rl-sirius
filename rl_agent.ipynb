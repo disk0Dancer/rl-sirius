{
 "cells": [
  {
   "cell_type": "markdown",
   "id": "28890e74-01a4-4079-8950-7a4bf96907ab",
   "metadata": {},
   "source": [
    "# Recommender Systems"
   ]
  },
  {
   "cell_type": "markdown",
   "id": "2a8ebbf9",
   "metadata": {},
   "source": [
    "## Библиотеки"
   ]
  },
  {
   "cell_type": "code",
   "id": "4d78f7f2-8a7b-4830-ab31-302aad70dd45",
   "metadata": {
    "ExecuteTime": {
     "end_time": "2024-09-28T07:49:48.687355Z",
     "start_time": "2024-09-28T07:49:48.084330Z"
    }
   },
   "source": [
    "from IPython.lib.display import IFrame\n",
    "from gitdb.util import exists\n",
    "from msgpack import unpack\n",
    "from numba.core.typing.context import Rating\n",
    "from pyarrow.includes.libarrow import kDLCPU\n",
    "from spyder.utils.snippets.nodes import ElseNode\n",
    "from streamlit import columns\n",
    "from sympy.physics.units import years\n",
    "!python3 --version"
   ],
   "outputs": [
    {
     "name": "stdout",
     "output_type": "stream",
     "text": [
      "Python 3.11.7\r\n"
     ]
    }
   ],
   "execution_count": 43
  },
  {
   "cell_type": "code",
   "id": "6a45ed61-6a77-446a-aed1-cc10ec75b15a",
   "metadata": {
    "scrolled": true,
    "ExecuteTime": {
     "end_time": "2024-09-28T07:49:55.396801Z",
     "start_time": "2024-09-28T07:49:49.419063Z"
    }
   },
   "source": [
    "pip install matplotlib pandas scipy scikit-learn torch tqdm tensorboard implicit"
   ],
   "outputs": [
    {
     "name": "stdout",
     "output_type": "stream",
     "text": [
      "Requirement already satisfied: matplotlib in /opt/anaconda3/lib/python3.11/site-packages (3.9.0)\r\n",
      "Requirement already satisfied: pandas in /opt/anaconda3/lib/python3.11/site-packages (2.2.2)\r\n",
      "Requirement already satisfied: scipy in /opt/anaconda3/lib/python3.11/site-packages (1.14.0)\r\n",
      "Requirement already satisfied: scikit-learn in /opt/anaconda3/lib/python3.11/site-packages (1.5.0)\r\n",
      "Requirement already satisfied: torch in /opt/anaconda3/lib/python3.11/site-packages (2.3.1)\r\n",
      "Requirement already satisfied: tqdm in /opt/anaconda3/lib/python3.11/site-packages (4.66.4)\r\n",
      "Collecting tensorboard\r\n",
      "  Downloading tensorboard-2.18.0-py3-none-any.whl.metadata (1.6 kB)\r\n",
      "Collecting implicit\r\n",
      "  Downloading implicit-0.7.2-cp311-cp311-macosx_11_0_arm64.whl.metadata (6.1 kB)\r\n",
      "Requirement already satisfied: contourpy>=1.0.1 in /opt/anaconda3/lib/python3.11/site-packages (from matplotlib) (1.2.0)\r\n",
      "Requirement already satisfied: cycler>=0.10 in /opt/anaconda3/lib/python3.11/site-packages (from matplotlib) (0.11.0)\r\n",
      "Requirement already satisfied: fonttools>=4.22.0 in /opt/anaconda3/lib/python3.11/site-packages (from matplotlib) (4.25.0)\r\n",
      "Requirement already satisfied: kiwisolver>=1.3.1 in /opt/anaconda3/lib/python3.11/site-packages (from matplotlib) (1.4.4)\r\n",
      "Requirement already satisfied: numpy>=1.23 in /opt/anaconda3/lib/python3.11/site-packages (from matplotlib) (1.26.4)\r\n",
      "Requirement already satisfied: packaging>=20.0 in /opt/anaconda3/lib/python3.11/site-packages (from matplotlib) (23.2)\r\n",
      "Requirement already satisfied: pillow>=8 in /opt/anaconda3/lib/python3.11/site-packages (from matplotlib) (10.2.0)\r\n",
      "Requirement already satisfied: pyparsing>=2.3.1 in /opt/anaconda3/lib/python3.11/site-packages (from matplotlib) (3.1.2)\r\n",
      "Requirement already satisfied: python-dateutil>=2.7 in /opt/anaconda3/lib/python3.11/site-packages (from matplotlib) (2.9.0.post0)\r\n",
      "Requirement already satisfied: pytz>=2020.1 in /opt/anaconda3/lib/python3.11/site-packages (from pandas) (2024.1)\r\n",
      "Requirement already satisfied: tzdata>=2022.7 in /opt/anaconda3/lib/python3.11/site-packages (from pandas) (2024.1)\r\n",
      "Requirement already satisfied: joblib>=1.2.0 in /opt/anaconda3/lib/python3.11/site-packages (from scikit-learn) (1.4.2)\r\n",
      "Requirement already satisfied: threadpoolctl>=3.1.0 in /opt/anaconda3/lib/python3.11/site-packages (from scikit-learn) (3.5.0)\r\n",
      "Requirement already satisfied: filelock in /opt/anaconda3/lib/python3.11/site-packages (from torch) (3.15.4)\r\n",
      "Requirement already satisfied: typing-extensions>=4.8.0 in /opt/anaconda3/lib/python3.11/site-packages (from torch) (4.12.2)\r\n",
      "Requirement already satisfied: sympy in /opt/anaconda3/lib/python3.11/site-packages (from torch) (1.12.1)\r\n",
      "Requirement already satisfied: networkx in /opt/anaconda3/lib/python3.11/site-packages (from torch) (3.3)\r\n",
      "Requirement already satisfied: jinja2 in /opt/anaconda3/lib/python3.11/site-packages (from torch) (3.1.4)\r\n",
      "Requirement already satisfied: fsspec in /opt/anaconda3/lib/python3.11/site-packages (from torch) (2024.5.0)\r\n",
      "Collecting absl-py>=0.4 (from tensorboard)\r\n",
      "  Using cached absl_py-2.1.0-py3-none-any.whl.metadata (2.3 kB)\r\n",
      "Collecting grpcio>=1.48.2 (from tensorboard)\r\n",
      "  Downloading grpcio-1.66.1-cp311-cp311-macosx_10_9_universal2.whl.metadata (3.9 kB)\r\n",
      "Requirement already satisfied: markdown>=2.6.8 in /opt/anaconda3/lib/python3.11/site-packages (from tensorboard) (3.4.1)\r\n",
      "Requirement already satisfied: protobuf!=4.24.0,>=3.19.6 in /opt/anaconda3/lib/python3.11/site-packages (from tensorboard) (3.20.3)\r\n",
      "Requirement already satisfied: setuptools>=41.0.0 in /opt/anaconda3/lib/python3.11/site-packages (from tensorboard) (68.2.2)\r\n",
      "Requirement already satisfied: six>1.9 in /opt/anaconda3/lib/python3.11/site-packages (from tensorboard) (1.16.0)\r\n",
      "Collecting tensorboard-data-server<0.8.0,>=0.7.0 (from tensorboard)\r\n",
      "  Using cached tensorboard_data_server-0.7.2-py3-none-any.whl.metadata (1.1 kB)\r\n",
      "Requirement already satisfied: werkzeug>=1.0.1 in /opt/anaconda3/lib/python3.11/site-packages (from tensorboard) (3.0.3)\r\n",
      "Requirement already satisfied: MarkupSafe>=2.1.1 in /opt/anaconda3/lib/python3.11/site-packages (from werkzeug>=1.0.1->tensorboard) (2.1.5)\r\n",
      "Requirement already satisfied: mpmath<1.4.0,>=1.1.0 in /opt/anaconda3/lib/python3.11/site-packages (from sympy->torch) (1.3.0)\r\n",
      "Downloading tensorboard-2.18.0-py3-none-any.whl (5.5 MB)\r\n",
      "\u001B[2K   \u001B[90m━━━━━━━━━━━━━━━━━━━━━━━━━━━━━━━━━━━━━━━━\u001B[0m \u001B[32m5.5/5.5 MB\u001B[0m \u001B[31m8.8 MB/s\u001B[0m eta \u001B[36m0:00:00\u001B[0ma \u001B[36m0:00:01\u001B[0m\r\n",
      "\u001B[?25hDownloading implicit-0.7.2-cp311-cp311-macosx_11_0_arm64.whl (761 kB)\r\n",
      "\u001B[2K   \u001B[90m━━━━━━━━━━━━━━━━━━━━━━━━━━━━━━━━━━━━━━━━\u001B[0m \u001B[32m761.6/761.6 kB\u001B[0m \u001B[31m6.5 MB/s\u001B[0m eta \u001B[36m0:00:00\u001B[0m00:01\u001B[0m00:01\u001B[0m\r\n",
      "\u001B[?25hUsing cached absl_py-2.1.0-py3-none-any.whl (133 kB)\r\n",
      "Downloading grpcio-1.66.1-cp311-cp311-macosx_10_9_universal2.whl (10.6 MB)\r\n",
      "\u001B[2K   \u001B[90m━━━━━━━━━━━━━━━━━━━━━━━━━━━━━━━━━━━━━━━━\u001B[0m \u001B[32m10.6/10.6 MB\u001B[0m \u001B[31m14.9 MB/s\u001B[0m eta \u001B[36m0:00:00\u001B[0m00:01\u001B[0m00:01\u001B[0m\r\n",
      "\u001B[?25hUsing cached tensorboard_data_server-0.7.2-py3-none-any.whl (2.4 kB)\r\n",
      "Installing collected packages: tensorboard-data-server, grpcio, absl-py, tensorboard, implicit\r\n",
      "Successfully installed absl-py-2.1.0 grpcio-1.66.1 implicit-0.7.2 tensorboard-2.18.0 tensorboard-data-server-0.7.2\r\n",
      "\r\n",
      "\u001B[1m[\u001B[0m\u001B[34;49mnotice\u001B[0m\u001B[1;39;49m]\u001B[0m\u001B[39;49m A new release of pip is available: \u001B[0m\u001B[31;49m24.1.1\u001B[0m\u001B[39;49m -> \u001B[0m\u001B[32;49m24.2\u001B[0m\r\n",
      "\u001B[1m[\u001B[0m\u001B[34;49mnotice\u001B[0m\u001B[1;39;49m]\u001B[0m\u001B[39;49m To update, run: \u001B[0m\u001B[32;49mpip install --upgrade pip\u001B[0m\r\n",
      "Note: you may need to restart the kernel to use updated packages.\n"
     ]
    }
   ],
   "execution_count": 44
  },
  {
   "cell_type": "code",
   "id": "87020f5c",
   "metadata": {
    "ExecuteTime": {
     "end_time": "2024-09-28T07:50:01.072247Z",
     "start_time": "2024-09-28T07:49:59.930083Z"
    }
   },
   "source": [
    "from abc import ABC, abstractmethod\n",
    "from typing import Dict, List\n",
    "\n",
    "import matplotlib.pyplot as plt\n",
    "import numpy as np\n",
    "import pandas as pd\n",
    "import pickle\n",
    "from implicit.als import AlternatingLeastSquares\n",
    "from scipy.sparse import csr_matrix\n",
    "from sklearn.preprocessing import LabelEncoder\n",
    "from tqdm.auto import tqdm\n"
   ],
   "outputs": [],
   "execution_count": 45
  },
  {
   "cell_type": "markdown",
   "id": "ac5ea33e",
   "metadata": {},
   "source": [
    "## Данные"
   ]
  },
  {
   "cell_type": "markdown",
   "id": "c457efa5",
   "metadata": {},
   "source": [
    "В качестве данных будем использовать датасет от Кино.Триколор.\n",
    "Это информация о просмотрах пользователей различных фильмов и сериалов с названиями, описаниями и прочими фичами. \n",
    "\n",
    "**Обратите внимание, что вы можете парсить интернет, для получения дополнительных фичей! Только не забудьте описать, какие фичи вы взяли и где вы их достали!**   \n",
    "Мы заранее поделили выборки на тренировочную и тестовую части, поэтому **просим** вас придерживаться следующих правил: с тренировочными данными разрешается делать **всё что угодно**, тестовую же часть **запрещается изменять**!  \n",
    "\n",
    "Датасет представляет из себя 4 файла: тренировочную часть (`train_data.csv`), тестовую часть(`test_data.csv`), описание пользователей(`users_df.csv`) и описание айтемов(`items_df.csv`). "
   ]
  },
  {
   "cell_type": "code",
   "id": "4fe28e8d",
   "metadata": {
    "ExecuteTime": {
     "end_time": "2024-09-28T07:50:11.161556Z",
     "start_time": "2024-09-28T07:50:09.132922Z"
    }
   },
   "source": [
    "data_folder = \"./data_csv/\"\n",
    "\n",
    "users_df = pd.read_csv(data_folder + \"users_df.csv\")\n",
    "items_df = pd.read_csv(data_folder + \"items_df.csv\")\n",
    "\n",
    "countries = pd.read_csv(data_folder + \"countries.csv\")\n",
    "genres = pd.read_csv(data_folder + \"genres.csv\")\n",
    "staff = pd.read_csv(data_folder + \"staff.csv\")\n",
    "\n",
    "train_part = pd.read_csv(data_folder + \"train_data.csv\", parse_dates=[\"datetime\"])\n",
    "test_part = pd.read_csv(data_folder + \"test_data.csv\")\n",
    "test_part = test_part.groupby(\"user_id\").agg({\"movie_id\": list}).reset_index()\n"
   ],
   "outputs": [],
   "execution_count": 47
  },
  {
   "cell_type": "markdown",
   "id": "4181deb6",
   "metadata": {},
   "source": [
    "### Пользователи"
   ]
  },
  {
   "cell_type": "code",
   "id": "9034562c",
   "metadata": {
    "ExecuteTime": {
     "end_time": "2024-09-28T07:50:13.196177Z",
     "start_time": "2024-09-28T07:50:13.191865Z"
    }
   },
   "source": [
    "users_df.head(10)"
   ],
   "outputs": [
    {
     "data": {
      "text/plain": [
       "   user_id age_category   income      sex  kids_flg        education\n",
       "0    10250        35-44      NaN      NaN       0.0           Высшее\n",
       "1     2062        18-24      NaN  Женский       0.0          Среднее\n",
       "2    12980        35-44      NaN  Женский       1.0  Неполное высшее\n",
       "3    30646        35-44   низкий      NaN       1.0           Высшее\n",
       "4    43069        25-34      NaN  Женский       NaN           Высшее\n",
       "5    46037        25-34   низкий  Мужской       0.0          Среднее\n",
       "6    15060        18-24  средний  Мужской       0.0  Без образования\n",
       "7    38702          NaN  высокий  Мужской       0.0              NaN\n",
       "8     2019        25-34   низкий  Женский       NaN              NaN\n",
       "9    34480        25-34   низкий  Женский       1.0           Высшее"
      ],
      "text/html": [
       "<div>\n",
       "<style scoped>\n",
       "    .dataframe tbody tr th:only-of-type {\n",
       "        vertical-align: middle;\n",
       "    }\n",
       "\n",
       "    .dataframe tbody tr th {\n",
       "        vertical-align: top;\n",
       "    }\n",
       "\n",
       "    .dataframe thead th {\n",
       "        text-align: right;\n",
       "    }\n",
       "</style>\n",
       "<table border=\"1\" class=\"dataframe\">\n",
       "  <thead>\n",
       "    <tr style=\"text-align: right;\">\n",
       "      <th></th>\n",
       "      <th>user_id</th>\n",
       "      <th>age_category</th>\n",
       "      <th>income</th>\n",
       "      <th>sex</th>\n",
       "      <th>kids_flg</th>\n",
       "      <th>education</th>\n",
       "    </tr>\n",
       "  </thead>\n",
       "  <tbody>\n",
       "    <tr>\n",
       "      <th>0</th>\n",
       "      <td>10250</td>\n",
       "      <td>35-44</td>\n",
       "      <td>NaN</td>\n",
       "      <td>NaN</td>\n",
       "      <td>0.0</td>\n",
       "      <td>Высшее</td>\n",
       "    </tr>\n",
       "    <tr>\n",
       "      <th>1</th>\n",
       "      <td>2062</td>\n",
       "      <td>18-24</td>\n",
       "      <td>NaN</td>\n",
       "      <td>Женский</td>\n",
       "      <td>0.0</td>\n",
       "      <td>Среднее</td>\n",
       "    </tr>\n",
       "    <tr>\n",
       "      <th>2</th>\n",
       "      <td>12980</td>\n",
       "      <td>35-44</td>\n",
       "      <td>NaN</td>\n",
       "      <td>Женский</td>\n",
       "      <td>1.0</td>\n",
       "      <td>Неполное высшее</td>\n",
       "    </tr>\n",
       "    <tr>\n",
       "      <th>3</th>\n",
       "      <td>30646</td>\n",
       "      <td>35-44</td>\n",
       "      <td>низкий</td>\n",
       "      <td>NaN</td>\n",
       "      <td>1.0</td>\n",
       "      <td>Высшее</td>\n",
       "    </tr>\n",
       "    <tr>\n",
       "      <th>4</th>\n",
       "      <td>43069</td>\n",
       "      <td>25-34</td>\n",
       "      <td>NaN</td>\n",
       "      <td>Женский</td>\n",
       "      <td>NaN</td>\n",
       "      <td>Высшее</td>\n",
       "    </tr>\n",
       "    <tr>\n",
       "      <th>5</th>\n",
       "      <td>46037</td>\n",
       "      <td>25-34</td>\n",
       "      <td>низкий</td>\n",
       "      <td>Мужской</td>\n",
       "      <td>0.0</td>\n",
       "      <td>Среднее</td>\n",
       "    </tr>\n",
       "    <tr>\n",
       "      <th>6</th>\n",
       "      <td>15060</td>\n",
       "      <td>18-24</td>\n",
       "      <td>средний</td>\n",
       "      <td>Мужской</td>\n",
       "      <td>0.0</td>\n",
       "      <td>Без образования</td>\n",
       "    </tr>\n",
       "    <tr>\n",
       "      <th>7</th>\n",
       "      <td>38702</td>\n",
       "      <td>NaN</td>\n",
       "      <td>высокий</td>\n",
       "      <td>Мужской</td>\n",
       "      <td>0.0</td>\n",
       "      <td>NaN</td>\n",
       "    </tr>\n",
       "    <tr>\n",
       "      <th>8</th>\n",
       "      <td>2019</td>\n",
       "      <td>25-34</td>\n",
       "      <td>низкий</td>\n",
       "      <td>Женский</td>\n",
       "      <td>NaN</td>\n",
       "      <td>NaN</td>\n",
       "    </tr>\n",
       "    <tr>\n",
       "      <th>9</th>\n",
       "      <td>34480</td>\n",
       "      <td>25-34</td>\n",
       "      <td>низкий</td>\n",
       "      <td>Женский</td>\n",
       "      <td>1.0</td>\n",
       "      <td>Высшее</td>\n",
       "    </tr>\n",
       "  </tbody>\n",
       "</table>\n",
       "</div>"
      ]
     },
     "execution_count": 48,
     "metadata": {},
     "output_type": "execute_result"
    }
   ],
   "execution_count": 48
  },
  {
   "cell_type": "markdown",
   "id": "8b1d94a2",
   "metadata": {},
   "source": [
    "*Какие есть признаки?*\n",
    "\n",
    "1. `user_id` – индентификатор пользователя, уникален для каждого\n",
    "2. `age_category` – категориальный признак, показывающий возрастную группу пользователя\n",
    "3. `income` – категориальный признак, показывающий зарплатную группу пользователя\n",
    "4. `sex` – пол пользователя\n",
    "5. `kids_flg` – наличие детей у пользователя\n",
    "6. `education` – уровень образования пользователя"
   ]
  },
  {
   "cell_type": "markdown",
   "id": "5958decd",
   "metadata": {},
   "source": [
    "## Айтемы"
   ]
  },
  {
   "cell_type": "code",
   "id": "ab072a65",
   "metadata": {
    "ExecuteTime": {
     "end_time": "2024-09-28T07:50:14.646888Z",
     "start_time": "2024-09-28T07:50:14.642156Z"
    }
   },
   "source": [
    "items_df.head(4)"
   ],
   "outputs": [
    {
     "data": {
      "text/plain": [
       "   id                                    title        year  \\\n",
       "0   0                             Мама, я дома  2022-01-01   \n",
       "1   1               Три метра над уровнем неба  2010-01-01   \n",
       "2   2  Детектив ди и тайна призрачного пламени  2010-01-01   \n",
       "3   3                                  Капитан  2017-01-01   \n",
       "\n",
       "      date_publication  \\\n",
       "0  2022-11-23T00:00:00   \n",
       "1                  NaN   \n",
       "2                  NaN   \n",
       "3  2022-10-20T00:00:00   \n",
       "\n",
       "                                                                                                                                                                                                                                                                                                                                                    description  \\\n",
       "0            Где-то в глубинке вместе с дочерью и внуком живет Тоня. Она ждет возвращения домой своего сына Жени, но вместо этого получает похоронку и солидную компенсацию. Оказывается, сын был наемником и погиб в Сирии. Тоня требует от властей провести расследование, но однажды Женя возвращается. Драма от продюсеров «Левиафана» и «Разжимая кулаки».   \n",
       "1                                                                                                                          История любви парня и девушки, принадлежащих к разным мирам: она - хорошая девочка из приличной семьи, он - парень с трудным характером, склонный к агрессии. Их отношения начинаются с конфликта, но постепенно появляются чувства.   \n",
       "2  690 год нашей эры, Китай. Первая императрица династии Тан готовится к коронации, но в это же время при дворе происходит серия таинственных смертей. Несколько чиновников буквально вспыхивают, оказавшись на солнце, и погибают от охватившего их пламени. Императрица понимает, что это дело сможет раскрыть лишь один человек – осуждённый ею детектив Ди.   \n",
       "3                                                                                                                          Вторая мировая война подходит к концу. В это время измождённый молодой рядовой крадёт мундир капитана. Он притворяется офицером, чтобы создать группу дезертиров и любыми способами построить себе иную жизнь в фашистской Германии.   \n",
       "\n",
       "                genres      countries  \\\n",
       "0                 [97]          [238]   \n",
       "1       [138, 97, 294]          [242]   \n",
       "2           [294, 302]     [250, 117]   \n",
       "3  [97, 303, 143, 319]  [188, 212, 0]   \n",
       "\n",
       "                                                                                                                                            staff  \\\n",
       "0                                                                                                 [1883, 33655, 25890, 1001, 12051, 10110, 16895]   \n",
       "1                                                                    [18168, 23444, 10850, 21847, 30555, 24469, 26812, 11290, 16458, 33033, 7053]   \n",
       "2  [3933, 19953, 32174, 30640, 14127, 32141, 2549, 7525, 25798, 31229, 33792, 31419, 12732, 28017, 17540, 23077, 27944, 5513, 19049, 17022, 4162]   \n",
       "3                                                                      [16006, 12217, 30668, 28806, 16172, 5045, 16631, 4514, 33184, 33165, 5861]   \n",
       "\n",
       "                   title_orig  age_rating  \\\n",
       "0                         NaN         NaN   \n",
       "1  Tres metros sobre el cielo        16.0   \n",
       "2                         NaN         NaN   \n",
       "3                         NaN         NaN   \n",
       "\n",
       "                                                                                                                                                                                                                                  keywords  \n",
       "0                                                                                                                                                                                                                                      NaN  \n",
       "1  Три, метра, над, уровнем, неба, 2010, Испания, друзья, любовь, притяжение, противоположностей, семейные, проблемы, смена, жизненных, приоритетов, счастье, тусовки, одиночество, преодоление, трудностей, расставания, мечта, отношения  \n",
       "2                                                                                                                                                                                                                                      NaN  \n",
       "3                                                                                                                                                                                                                                      NaN  "
      ],
      "text/html": [
       "<div>\n",
       "<style scoped>\n",
       "    .dataframe tbody tr th:only-of-type {\n",
       "        vertical-align: middle;\n",
       "    }\n",
       "\n",
       "    .dataframe tbody tr th {\n",
       "        vertical-align: top;\n",
       "    }\n",
       "\n",
       "    .dataframe thead th {\n",
       "        text-align: right;\n",
       "    }\n",
       "</style>\n",
       "<table border=\"1\" class=\"dataframe\">\n",
       "  <thead>\n",
       "    <tr style=\"text-align: right;\">\n",
       "      <th></th>\n",
       "      <th>id</th>\n",
       "      <th>title</th>\n",
       "      <th>year</th>\n",
       "      <th>date_publication</th>\n",
       "      <th>description</th>\n",
       "      <th>genres</th>\n",
       "      <th>countries</th>\n",
       "      <th>staff</th>\n",
       "      <th>title_orig</th>\n",
       "      <th>age_rating</th>\n",
       "      <th>keywords</th>\n",
       "    </tr>\n",
       "  </thead>\n",
       "  <tbody>\n",
       "    <tr>\n",
       "      <th>0</th>\n",
       "      <td>0</td>\n",
       "      <td>Мама, я дома</td>\n",
       "      <td>2022-01-01</td>\n",
       "      <td>2022-11-23T00:00:00</td>\n",
       "      <td>Где-то в глубинке вместе с дочерью и внуком живет Тоня. Она ждет возвращения домой своего сына Жени, но вместо этого получает похоронку и солидную компенсацию. Оказывается, сын был наемником и погиб в Сирии. Тоня требует от властей провести расследование, но однажды Женя возвращается. Драма от продюсеров «Левиафана» и «Разжимая кулаки».</td>\n",
       "      <td>[97]</td>\n",
       "      <td>[238]</td>\n",
       "      <td>[1883, 33655, 25890, 1001, 12051, 10110, 16895]</td>\n",
       "      <td>NaN</td>\n",
       "      <td>NaN</td>\n",
       "      <td>NaN</td>\n",
       "    </tr>\n",
       "    <tr>\n",
       "      <th>1</th>\n",
       "      <td>1</td>\n",
       "      <td>Три метра над уровнем неба</td>\n",
       "      <td>2010-01-01</td>\n",
       "      <td>NaN</td>\n",
       "      <td>История любви парня и девушки, принадлежащих к разным мирам: она - хорошая девочка из приличной семьи, он - парень с трудным характером, склонный к агрессии. Их отношения начинаются с конфликта, но постепенно появляются чувства.</td>\n",
       "      <td>[138, 97, 294]</td>\n",
       "      <td>[242]</td>\n",
       "      <td>[18168, 23444, 10850, 21847, 30555, 24469, 26812, 11290, 16458, 33033, 7053]</td>\n",
       "      <td>Tres metros sobre el cielo</td>\n",
       "      <td>16.0</td>\n",
       "      <td>Три, метра, над, уровнем, неба, 2010, Испания, друзья, любовь, притяжение, противоположностей, семейные, проблемы, смена, жизненных, приоритетов, счастье, тусовки, одиночество, преодоление, трудностей, расставания, мечта, отношения</td>\n",
       "    </tr>\n",
       "    <tr>\n",
       "      <th>2</th>\n",
       "      <td>2</td>\n",
       "      <td>Детектив ди и тайна призрачного пламени</td>\n",
       "      <td>2010-01-01</td>\n",
       "      <td>NaN</td>\n",
       "      <td>690 год нашей эры, Китай. Первая императрица династии Тан готовится к коронации, но в это же время при дворе происходит серия таинственных смертей. Несколько чиновников буквально вспыхивают, оказавшись на солнце, и погибают от охватившего их пламени. Императрица понимает, что это дело сможет раскрыть лишь один человек – осуждённый ею детектив Ди.</td>\n",
       "      <td>[294, 302]</td>\n",
       "      <td>[250, 117]</td>\n",
       "      <td>[3933, 19953, 32174, 30640, 14127, 32141, 2549, 7525, 25798, 31229, 33792, 31419, 12732, 28017, 17540, 23077, 27944, 5513, 19049, 17022, 4162]</td>\n",
       "      <td>NaN</td>\n",
       "      <td>NaN</td>\n",
       "      <td>NaN</td>\n",
       "    </tr>\n",
       "    <tr>\n",
       "      <th>3</th>\n",
       "      <td>3</td>\n",
       "      <td>Капитан</td>\n",
       "      <td>2017-01-01</td>\n",
       "      <td>2022-10-20T00:00:00</td>\n",
       "      <td>Вторая мировая война подходит к концу. В это время измождённый молодой рядовой крадёт мундир капитана. Он притворяется офицером, чтобы создать группу дезертиров и любыми способами построить себе иную жизнь в фашистской Германии.</td>\n",
       "      <td>[97, 303, 143, 319]</td>\n",
       "      <td>[188, 212, 0]</td>\n",
       "      <td>[16006, 12217, 30668, 28806, 16172, 5045, 16631, 4514, 33184, 33165, 5861]</td>\n",
       "      <td>NaN</td>\n",
       "      <td>NaN</td>\n",
       "      <td>NaN</td>\n",
       "    </tr>\n",
       "  </tbody>\n",
       "</table>\n",
       "</div>"
      ]
     },
     "execution_count": 49,
     "metadata": {},
     "output_type": "execute_result"
    }
   ],
   "execution_count": 49
  },
  {
   "cell_type": "markdown",
   "id": "bd6ec505",
   "metadata": {},
   "source": [
    "*Какие есть признаки?*\n",
    "\n",
    "1. `id` – индентификатор айтема, уникален для каждого\n",
    "2. `title` – Название на русском языке\n",
    "3. `year` – Дата выхода\n",
    "4. `date_publication` – дата публикации на платформе\n",
    "5. `description` – описание (на русском)\n",
    "6. `genres` - список жанров (представлен строкой)\n",
    "7. `countries` – страна издания\n",
    "8. `staff` – режиссер(ы), актёры\n",
    "9. `title_orig` – название на английском\n",
    "10. `age_rating` – возрастной рейтинг картины\n",
    "11. `keywords` – ключевые слова, описывающие картину"
   ]
  },
  {
   "cell_type": "markdown",
   "id": "c7a03955",
   "metadata": {
    "jp-MarkdownHeadingCollapsed": true
   },
   "source": [
    "### Страны выпуска фильмов"
   ]
  },
  {
   "cell_type": "code",
   "id": "467d247b",
   "metadata": {
    "ExecuteTime": {
     "end_time": "2024-09-28T07:50:15.693146Z",
     "start_time": "2024-09-28T07:50:15.689937Z"
    }
   },
   "source": [
    "countries.head()"
   ],
   "outputs": [
    {
     "data": {
      "text/plain": [
       "   id            name\n",
       "0   0         Франция\n",
       "1   1          Мальта\n",
       "2   5  Новая Зеландия\n",
       "3   8            Куба\n",
       "4  10     Пуэрто-Рико"
      ],
      "text/html": [
       "<div>\n",
       "<style scoped>\n",
       "    .dataframe tbody tr th:only-of-type {\n",
       "        vertical-align: middle;\n",
       "    }\n",
       "\n",
       "    .dataframe tbody tr th {\n",
       "        vertical-align: top;\n",
       "    }\n",
       "\n",
       "    .dataframe thead th {\n",
       "        text-align: right;\n",
       "    }\n",
       "</style>\n",
       "<table border=\"1\" class=\"dataframe\">\n",
       "  <thead>\n",
       "    <tr style=\"text-align: right;\">\n",
       "      <th></th>\n",
       "      <th>id</th>\n",
       "      <th>name</th>\n",
       "    </tr>\n",
       "  </thead>\n",
       "  <tbody>\n",
       "    <tr>\n",
       "      <th>0</th>\n",
       "      <td>0</td>\n",
       "      <td>Франция</td>\n",
       "    </tr>\n",
       "    <tr>\n",
       "      <th>1</th>\n",
       "      <td>1</td>\n",
       "      <td>Мальта</td>\n",
       "    </tr>\n",
       "    <tr>\n",
       "      <th>2</th>\n",
       "      <td>5</td>\n",
       "      <td>Новая Зеландия</td>\n",
       "    </tr>\n",
       "    <tr>\n",
       "      <th>3</th>\n",
       "      <td>8</td>\n",
       "      <td>Куба</td>\n",
       "    </tr>\n",
       "    <tr>\n",
       "      <th>4</th>\n",
       "      <td>10</td>\n",
       "      <td>Пуэрто-Рико</td>\n",
       "    </tr>\n",
       "  </tbody>\n",
       "</table>\n",
       "</div>"
      ]
     },
     "execution_count": 50,
     "metadata": {},
     "output_type": "execute_result"
    }
   ],
   "execution_count": 50
  },
  {
   "cell_type": "markdown",
   "id": "8b9b6d6e",
   "metadata": {
    "jp-MarkdownHeadingCollapsed": true
   },
   "source": [
    "### Жанры"
   ]
  },
  {
   "cell_type": "code",
   "id": "9800e37b",
   "metadata": {
    "ExecuteTime": {
     "end_time": "2024-09-28T07:50:16.161057Z",
     "start_time": "2024-09-28T07:50:16.157733Z"
    }
   },
   "source": [
    "genres.head()"
   ],
   "outputs": [
    {
     "data": {
      "text/plain": [
       "   id                  name\n",
       "0   2                Сказка\n",
       "1   8              Здоровье\n",
       "2  17                 Наука\n",
       "3  24  Комедийная мелодрама\n",
       "4  38               Мистика"
      ],
      "text/html": [
       "<div>\n",
       "<style scoped>\n",
       "    .dataframe tbody tr th:only-of-type {\n",
       "        vertical-align: middle;\n",
       "    }\n",
       "\n",
       "    .dataframe tbody tr th {\n",
       "        vertical-align: top;\n",
       "    }\n",
       "\n",
       "    .dataframe thead th {\n",
       "        text-align: right;\n",
       "    }\n",
       "</style>\n",
       "<table border=\"1\" class=\"dataframe\">\n",
       "  <thead>\n",
       "    <tr style=\"text-align: right;\">\n",
       "      <th></th>\n",
       "      <th>id</th>\n",
       "      <th>name</th>\n",
       "    </tr>\n",
       "  </thead>\n",
       "  <tbody>\n",
       "    <tr>\n",
       "      <th>0</th>\n",
       "      <td>2</td>\n",
       "      <td>Сказка</td>\n",
       "    </tr>\n",
       "    <tr>\n",
       "      <th>1</th>\n",
       "      <td>8</td>\n",
       "      <td>Здоровье</td>\n",
       "    </tr>\n",
       "    <tr>\n",
       "      <th>2</th>\n",
       "      <td>17</td>\n",
       "      <td>Наука</td>\n",
       "    </tr>\n",
       "    <tr>\n",
       "      <th>3</th>\n",
       "      <td>24</td>\n",
       "      <td>Комедийная мелодрама</td>\n",
       "    </tr>\n",
       "    <tr>\n",
       "      <th>4</th>\n",
       "      <td>38</td>\n",
       "      <td>Мистика</td>\n",
       "    </tr>\n",
       "  </tbody>\n",
       "</table>\n",
       "</div>"
      ]
     },
     "execution_count": 51,
     "metadata": {},
     "output_type": "execute_result"
    }
   ],
   "execution_count": 51
  },
  {
   "cell_type": "markdown",
   "id": "bc195a65",
   "metadata": {},
   "source": [
    "### Актеры, режиcсеры"
   ]
  },
  {
   "cell_type": "code",
   "id": "c36ce591",
   "metadata": {
    "ExecuteTime": {
     "end_time": "2024-09-28T07:50:16.586095Z",
     "start_time": "2024-09-28T07:50:16.582778Z"
    }
   },
   "source": [
    "staff.head(2)"
   ],
   "outputs": [
    {
     "data": {
      "text/plain": [
       "   id           name   role\n",
       "0   0  Юрий Волынцев  actor\n",
       "1   1    Коннор Смит  actor"
      ],
      "text/html": [
       "<div>\n",
       "<style scoped>\n",
       "    .dataframe tbody tr th:only-of-type {\n",
       "        vertical-align: middle;\n",
       "    }\n",
       "\n",
       "    .dataframe tbody tr th {\n",
       "        vertical-align: top;\n",
       "    }\n",
       "\n",
       "    .dataframe thead th {\n",
       "        text-align: right;\n",
       "    }\n",
       "</style>\n",
       "<table border=\"1\" class=\"dataframe\">\n",
       "  <thead>\n",
       "    <tr style=\"text-align: right;\">\n",
       "      <th></th>\n",
       "      <th>id</th>\n",
       "      <th>name</th>\n",
       "      <th>role</th>\n",
       "    </tr>\n",
       "  </thead>\n",
       "  <tbody>\n",
       "    <tr>\n",
       "      <th>0</th>\n",
       "      <td>0</td>\n",
       "      <td>Юрий Волынцев</td>\n",
       "      <td>actor</td>\n",
       "    </tr>\n",
       "    <tr>\n",
       "      <th>1</th>\n",
       "      <td>1</td>\n",
       "      <td>Коннор Смит</td>\n",
       "      <td>actor</td>\n",
       "    </tr>\n",
       "  </tbody>\n",
       "</table>\n",
       "</div>"
      ]
     },
     "execution_count": 52,
     "metadata": {},
     "output_type": "execute_result"
    }
   ],
   "execution_count": 52
  },
  {
   "cell_type": "markdown",
   "id": "1f847f22",
   "metadata": {},
   "source": [
    "### Просмотры пользователей"
   ]
  },
  {
   "cell_type": "markdown",
   "id": "4e7bcab4",
   "metadata": {
    "jp-MarkdownHeadingCollapsed": true
   },
   "source": [
    "#### Тренировачные данные"
   ]
  },
  {
   "cell_type": "code",
   "id": "550ab814",
   "metadata": {
    "ExecuteTime": {
     "end_time": "2024-09-28T07:50:16.964537Z",
     "start_time": "2024-09-28T07:50:16.960150Z"
    }
   },
   "source": [
    "print(f\"Число тренировачных интеракций: {len(train_part):,}\")\n",
    "train_part.head()"
   ],
   "outputs": [
    {
     "name": "stdout",
     "output_type": "stream",
     "text": [
      "Число тренировачных интеракций: 1,251,871\n"
     ]
    },
    {
     "data": {
      "text/plain": [
       "   id                          datetime  user_id  movie_id  duration  is_train\n",
       "0   0  2023-04-06 15:00:00.071114+03:00    10250     427.0     485.0      True\n",
       "1   1  2023-04-06 15:00:01.123928+03:00     2062    1521.0     129.0      True\n",
       "2   2  2023-04-06 15:00:03.957246+03:00    12980    4598.0    2795.0      True\n",
       "3   3  2023-04-06 15:00:04.990565+03:00    30646    5324.0    5094.0      True\n",
       "4   4  2023-04-06 15:00:10.495017+03:00    43069    4291.0      75.0      True"
      ],
      "text/html": [
       "<div>\n",
       "<style scoped>\n",
       "    .dataframe tbody tr th:only-of-type {\n",
       "        vertical-align: middle;\n",
       "    }\n",
       "\n",
       "    .dataframe tbody tr th {\n",
       "        vertical-align: top;\n",
       "    }\n",
       "\n",
       "    .dataframe thead th {\n",
       "        text-align: right;\n",
       "    }\n",
       "</style>\n",
       "<table border=\"1\" class=\"dataframe\">\n",
       "  <thead>\n",
       "    <tr style=\"text-align: right;\">\n",
       "      <th></th>\n",
       "      <th>id</th>\n",
       "      <th>datetime</th>\n",
       "      <th>user_id</th>\n",
       "      <th>movie_id</th>\n",
       "      <th>duration</th>\n",
       "      <th>is_train</th>\n",
       "    </tr>\n",
       "  </thead>\n",
       "  <tbody>\n",
       "    <tr>\n",
       "      <th>0</th>\n",
       "      <td>0</td>\n",
       "      <td>2023-04-06 15:00:00.071114+03:00</td>\n",
       "      <td>10250</td>\n",
       "      <td>427.0</td>\n",
       "      <td>485.0</td>\n",
       "      <td>True</td>\n",
       "    </tr>\n",
       "    <tr>\n",
       "      <th>1</th>\n",
       "      <td>1</td>\n",
       "      <td>2023-04-06 15:00:01.123928+03:00</td>\n",
       "      <td>2062</td>\n",
       "      <td>1521.0</td>\n",
       "      <td>129.0</td>\n",
       "      <td>True</td>\n",
       "    </tr>\n",
       "    <tr>\n",
       "      <th>2</th>\n",
       "      <td>2</td>\n",
       "      <td>2023-04-06 15:00:03.957246+03:00</td>\n",
       "      <td>12980</td>\n",
       "      <td>4598.0</td>\n",
       "      <td>2795.0</td>\n",
       "      <td>True</td>\n",
       "    </tr>\n",
       "    <tr>\n",
       "      <th>3</th>\n",
       "      <td>3</td>\n",
       "      <td>2023-04-06 15:00:04.990565+03:00</td>\n",
       "      <td>30646</td>\n",
       "      <td>5324.0</td>\n",
       "      <td>5094.0</td>\n",
       "      <td>True</td>\n",
       "    </tr>\n",
       "    <tr>\n",
       "      <th>4</th>\n",
       "      <td>4</td>\n",
       "      <td>2023-04-06 15:00:10.495017+03:00</td>\n",
       "      <td>43069</td>\n",
       "      <td>4291.0</td>\n",
       "      <td>75.0</td>\n",
       "      <td>True</td>\n",
       "    </tr>\n",
       "  </tbody>\n",
       "</table>\n",
       "</div>"
      ]
     },
     "execution_count": 53,
     "metadata": {},
     "output_type": "execute_result"
    }
   ],
   "execution_count": 53
  },
  {
   "cell_type": "markdown",
   "id": "468be7b9",
   "metadata": {
    "jp-MarkdownHeadingCollapsed": true
   },
   "source": [
    "#### Тестовые данные"
   ]
  },
  {
   "cell_type": "code",
   "id": "f8d7e2e4",
   "metadata": {
    "ExecuteTime": {
     "end_time": "2024-09-28T07:50:17.859059Z",
     "start_time": "2024-09-28T07:50:17.854612Z"
    }
   },
   "source": [
    "print(f\"Число тестовых пользователей: {len(test_part):,}\")\n",
    "test_part.head()"
   ],
   "outputs": [
    {
     "name": "stdout",
     "output_type": "stream",
     "text": [
      "Число тестовых пользователей: 66,900\n"
     ]
    },
    {
     "data": {
      "text/plain": [
       "   user_id  \\\n",
       "0        0   \n",
       "1        1   \n",
       "2        2   \n",
       "3        3   \n",
       "4        4   \n",
       "\n",
       "                                                                                                                                                                                                                                                                                                                                                                                                                                                                                                                                                           movie_id  \n",
       "0                                                                                                                                                                                                                                                                                                                                                                                                                                                             [12.0, 6201.0, 5542.0, 2025.0, 190.0, 5358.0, 4495.0, 2744.0, 3882.0, 6450.0, 7179.0, 3516.0, 4426.0]  \n",
       "1                                                                                                      [2515.0, 1540.0, 5210.0, 1608.0, 3590.0, 7215.0, 3564.0, 1578.0, 4137.0, 3291.0, 6116.0, 308.0, 4152.0, 7211.0, 7370.0, 3174.0, 4664.0, 2207.0, 2835.0, 3242.0, 2590.0, 1760.0, 2925.0, 4715.0, 1281.0, 4473.0, 1715.0, 3512.0, 1098.0, 2952.0, 1270.0, 7108.0, 2226.0, 6626.0, 3329.0, 611.0, 4114.0, 4638.0, 1103.0, 5179.0, 4237.0, 4153.0, 2756.0, 3415.0, 5289.0, 157.0, 5293.0, 4127.0, 2145.0, 5653.0, 4588.0, 7110.0, 3464.0, 3727.0, 1811.0, 633.0]  \n",
       "2  [5998.0, 190.0, 7327.0, 947.0, 3814.0, 876.0, 7234.0, 5399.0, 3979.0, 2886.0, 3707.0, 4889.0, 558.0, 2355.0, 5070.0, 655.0, 4379.0, 1890.0, 7213.0, 5184.0, 6668.0, 442.0, 1671.0, 7186.0, 1163.0, 4081.0, 5133.0, 6295.0, 6201.0, 3866.0, 3148.0, 4730.0, 5500.0, 6164.0, 1161.0, 2413.0, 4263.0, 3559.0, 7154.0, 2707.0, 5336.0, 1322.0, 2591.0, 2553.0, 1849.0, 6252.0, 1188.0, 6412.0, 3150.0, 6855.0, 5458.0, 7084.0, 1166.0, 3415.0, 1909.0, 107.0, 4308.0, 1011.0, 5542.0, 6888.0, 2689.0, 4505.0, 5512.0, 6046.0, 1781.0, 3220.0, 892.0, 5007.0, 4868.0]  \n",
       "3                                                                                                                                                                                                                                                                                                                                                                                                                                    [4812.0, 3935.0, 802.0, 4459.0, 4340.0, 5975.0, 7274.0, 592.0, 1141.0, 1941.0, 5571.0, 5179.0, 7410.0, 7157.0, 1401.0, 3896.0]  \n",
       "4                                                                                                         [152.0, 195.0, 800.0, 2266.0, 6634.0, 7412.0, 3705.0, 1775.0, 2510.0, 5179.0, 6112.0, 2498.0, 167.0, 4151.0, 1380.0, 6345.0, 164.0, 6594.0, 5869.0, 2759.0, 1514.0, 2465.0, 5774.0, 117.0, 3718.0, 5802.0, 2970.0, 1876.0, 5914.0, 1267.0, 1671.0, 4445.0, 6569.0, 4879.0, 5230.0, 5447.0, 7065.0, 2859.0, 7328.0, 1281.0, 5849.0, 1488.0, 592.0, 5320.0, 4486.0, 1599.0, 6509.0, 1527.0, 6660.0, 5582.0, 1976.0, 4829.0, 3242.0, 2667.0, 2870.0, 1996.0]  "
      ],
      "text/html": [
       "<div>\n",
       "<style scoped>\n",
       "    .dataframe tbody tr th:only-of-type {\n",
       "        vertical-align: middle;\n",
       "    }\n",
       "\n",
       "    .dataframe tbody tr th {\n",
       "        vertical-align: top;\n",
       "    }\n",
       "\n",
       "    .dataframe thead th {\n",
       "        text-align: right;\n",
       "    }\n",
       "</style>\n",
       "<table border=\"1\" class=\"dataframe\">\n",
       "  <thead>\n",
       "    <tr style=\"text-align: right;\">\n",
       "      <th></th>\n",
       "      <th>user_id</th>\n",
       "      <th>movie_id</th>\n",
       "    </tr>\n",
       "  </thead>\n",
       "  <tbody>\n",
       "    <tr>\n",
       "      <th>0</th>\n",
       "      <td>0</td>\n",
       "      <td>[12.0, 6201.0, 5542.0, 2025.0, 190.0, 5358.0, 4495.0, 2744.0, 3882.0, 6450.0, 7179.0, 3516.0, 4426.0]</td>\n",
       "    </tr>\n",
       "    <tr>\n",
       "      <th>1</th>\n",
       "      <td>1</td>\n",
       "      <td>[2515.0, 1540.0, 5210.0, 1608.0, 3590.0, 7215.0, 3564.0, 1578.0, 4137.0, 3291.0, 6116.0, 308.0, 4152.0, 7211.0, 7370.0, 3174.0, 4664.0, 2207.0, 2835.0, 3242.0, 2590.0, 1760.0, 2925.0, 4715.0, 1281.0, 4473.0, 1715.0, 3512.0, 1098.0, 2952.0, 1270.0, 7108.0, 2226.0, 6626.0, 3329.0, 611.0, 4114.0, 4638.0, 1103.0, 5179.0, 4237.0, 4153.0, 2756.0, 3415.0, 5289.0, 157.0, 5293.0, 4127.0, 2145.0, 5653.0, 4588.0, 7110.0, 3464.0, 3727.0, 1811.0, 633.0]</td>\n",
       "    </tr>\n",
       "    <tr>\n",
       "      <th>2</th>\n",
       "      <td>2</td>\n",
       "      <td>[5998.0, 190.0, 7327.0, 947.0, 3814.0, 876.0, 7234.0, 5399.0, 3979.0, 2886.0, 3707.0, 4889.0, 558.0, 2355.0, 5070.0, 655.0, 4379.0, 1890.0, 7213.0, 5184.0, 6668.0, 442.0, 1671.0, 7186.0, 1163.0, 4081.0, 5133.0, 6295.0, 6201.0, 3866.0, 3148.0, 4730.0, 5500.0, 6164.0, 1161.0, 2413.0, 4263.0, 3559.0, 7154.0, 2707.0, 5336.0, 1322.0, 2591.0, 2553.0, 1849.0, 6252.0, 1188.0, 6412.0, 3150.0, 6855.0, 5458.0, 7084.0, 1166.0, 3415.0, 1909.0, 107.0, 4308.0, 1011.0, 5542.0, 6888.0, 2689.0, 4505.0, 5512.0, 6046.0, 1781.0, 3220.0, 892.0, 5007.0, 4868.0]</td>\n",
       "    </tr>\n",
       "    <tr>\n",
       "      <th>3</th>\n",
       "      <td>3</td>\n",
       "      <td>[4812.0, 3935.0, 802.0, 4459.0, 4340.0, 5975.0, 7274.0, 592.0, 1141.0, 1941.0, 5571.0, 5179.0, 7410.0, 7157.0, 1401.0, 3896.0]</td>\n",
       "    </tr>\n",
       "    <tr>\n",
       "      <th>4</th>\n",
       "      <td>4</td>\n",
       "      <td>[152.0, 195.0, 800.0, 2266.0, 6634.0, 7412.0, 3705.0, 1775.0, 2510.0, 5179.0, 6112.0, 2498.0, 167.0, 4151.0, 1380.0, 6345.0, 164.0, 6594.0, 5869.0, 2759.0, 1514.0, 2465.0, 5774.0, 117.0, 3718.0, 5802.0, 2970.0, 1876.0, 5914.0, 1267.0, 1671.0, 4445.0, 6569.0, 4879.0, 5230.0, 5447.0, 7065.0, 2859.0, 7328.0, 1281.0, 5849.0, 1488.0, 592.0, 5320.0, 4486.0, 1599.0, 6509.0, 1527.0, 6660.0, 5582.0, 1976.0, 4829.0, 3242.0, 2667.0, 2870.0, 1996.0]</td>\n",
       "    </tr>\n",
       "  </tbody>\n",
       "</table>\n",
       "</div>"
      ]
     },
     "execution_count": 54,
     "metadata": {},
     "output_type": "execute_result"
    }
   ],
   "execution_count": 54
  },
  {
   "cell_type": "markdown",
   "id": "c1cbbff2",
   "metadata": {},
   "source": [
    "### Обратите внимание, что формат данных тестовой и тренировочной частей отличается. \n",
    "#### Это сделано для того, чтобы вы могли использовать дополнительную информацию в своих моделях, например такую как время просмотра (`duration`), а так же дату последнего просмотра (`datetime`)\n",
    "#### При этом на тестовых данных такой информации нет, так как мы не можем смотреть в будущее.     \n",
    "\n",
    "#### Тестовые данные также приведены в удобный для подсчета метрик вид."
   ]
  },
  {
   "cell_type": "markdown",
   "id": "116dca2a",
   "metadata": {},
   "source": [
    "# Метрики"
   ]
  },
  {
   "cell_type": "markdown",
   "id": "f6b8e6a6",
   "metadata": {},
   "source": [
    "#### Кратко расскажем про метрики, которые мы будем использовать для измерения качества наших моделей.  \n",
    "\n",
    "Мы будем смотреть всего на две метрики: **ndcg** и **recall**.  \n",
    "Все метрики измеряются до какой-то позиции, у нас это будет **10**. То есть мы отдаем 10 самых подходящих пользователю айтемов по мнению модели и говорим, что это и есть наши рекомендации, качество которых мы хотим оценить.  \n",
    "\n",
    "**ndcg** показывает, как модель справляется с задачей ранжирования, то есть ставит просмотренные айтемы выше непросмотренных\n",
    "**recall** показывает, как много релевантных айтемов модель выдаёт в топе (смысл как в задаче классификации)\n",
    "\n",
    "*Для обоих метрик лучше та, которая как можно ближе к **1.0***\n",
    "\n",
    "Не бойтесь, если вам сейчас что-то непонятно, подробнее про метрики мы расскажем на смене или можете почитать в интернете:)\n",
    "\n",
    "#### Ниже представлен код реализации, пожалуйста, не меняйте его!"
   ]
  },
  {
   "cell_type": "code",
   "id": "862f37fa",
   "metadata": {
    "ExecuteTime": {
     "end_time": "2024-09-28T07:50:18.848875Z",
     "start_time": "2024-09-28T07:50:18.844470Z"
    }
   },
   "source": [
    "# ACHTUNG! DO NOT TOUCH \n",
    "\n",
    "def ndcg_metric(gt_items: np.ndarray, predicted: np.ndarray) -> float:\n",
    "    at = len(predicted)\n",
    "    relevance = np.array([1 if x in predicted else 0 for x in gt_items])\n",
    "    # DCG uses the relevance of the recommended items\n",
    "    rank_dcg = dcg(relevance)\n",
    "    if rank_dcg == 0.0:\n",
    "        return 0.0\n",
    "\n",
    "    # IDCG has all relevances to 1 (or the values provided), up to the number of items in the test set that can fit in the list length\n",
    "    ideal_dcg = dcg(np.sort(relevance)[::-1][:at])\n",
    "\n",
    "    if ideal_dcg == 0.0:\n",
    "        return 0.0\n",
    "\n",
    "    ndcg_ = rank_dcg / ideal_dcg\n",
    "\n",
    "    return ndcg_\n",
    "\n",
    "\n",
    "def dcg(scores: np.ndarray) -> float:\n",
    "    return np.sum(\n",
    "        np.divide(np.power(2, scores) - 1, np.log2(np.arange(scores.shape[0], dtype=np.float64) + 2)), dtype=np.float64\n",
    "    )\n",
    "\n",
    "\n",
    "def recall_metric(gt_items: np.ndarray, predicted: np.ndarray) -> float:\n",
    "    n_gt = len(gt_items)\n",
    "    intersection = len(set(gt_items).intersection(set(predicted)))\n",
    "    return intersection / n_gt\n",
    "\n",
    "\n",
    "def evaluate_recommender(df: pd.DataFrame, model_preds_col: str, gt_col: str = \"movie_id\") -> Dict[str, float]:\n",
    "    metric_values = []\n",
    "\n",
    "    for _, row in df.iterrows():\n",
    "        metric_values.append(\n",
    "            (ndcg_metric(row[gt_col], row[model_preds_col]), recall_metric(row[gt_col], row[model_preds_col]))\n",
    "        )\n",
    "\n",
    "    return {\"ndcg\": np.mean([x[0] for x in metric_values]), \"recall\": np.mean([x[1] for x in metric_values])}"
   ],
   "outputs": [],
   "execution_count": 55
  },
  {
   "cell_type": "markdown",
   "id": "f3a653e1",
   "metadata": {},
   "source": [
    "#### Класс, от которого стоит наследовать все ваши модели, чтобы эксперименты было проще проводить"
   ]
  },
  {
   "cell_type": "code",
   "id": "50d66b8e-3ae7-4080-bfd7-a6bfbc4919fd",
   "metadata": {
    "ExecuteTime": {
     "end_time": "2024-09-28T07:50:19.268396Z",
     "start_time": "2024-09-28T07:50:19.266087Z"
    }
   },
   "source": [
    "class BaseRecommender(ABC):\n",
    "    def __init__(self):\n",
    "        self.trained = False\n",
    "\n",
    "    @abstractmethod\n",
    "    def fit(self, df: pd.DataFrame) -> None:\n",
    "        # реализация может быть любой, никаких ограничений\n",
    "\n",
    "        # не забудьте про\n",
    "        self.trained = True\n",
    "\n",
    "    @abstractmethod\n",
    "    def predict(self, df: pd.DataFrame, topn: int = 10) -> List[np.ndarray]:\n",
    "        # реализация может быть любой, НО\n",
    "        # должен возвращать список массивов из movie_id, которые есть в `item_df`, чтобы корректно работал подсчет метрик\n",
    "        pass"
   ],
   "outputs": [],
   "execution_count": 56
  },
  {
   "cell_type": "markdown",
   "id": "a85cdf6a",
   "metadata": {},
   "source": [
    "### Перейдем к моделям, начнем с супер простого подхода – давайте всем рекомендовать топ популярных (по числу просмотров) айтемов"
   ]
  },
  {
   "cell_type": "markdown",
   "id": "b9980118",
   "metadata": {},
   "source": [
    "# Baseline #1 – Топ Популярных"
   ]
  },
  {
   "cell_type": "code",
   "id": "b3345e4e",
   "metadata": {
    "ExecuteTime": {
     "end_time": "2024-09-28T07:50:20.979980Z",
     "start_time": "2024-09-28T07:50:20.955595Z"
    }
   },
   "source": [
    "class TopPopular(BaseRecommender):\n",
    "    def __init__(self):\n",
    "        super().__init__()\n",
    "\n",
    "    def fit(self, df: pd.DataFrame, item_id_col: str = \"movie_id\") -> None:\n",
    "        # считаем популярность айтемов\n",
    "        self.recommendations = df[item_id_col].value_counts().index.values\n",
    "        self.trained = True\n",
    "\n",
    "    def predict(self, df: pd.DataFrame, topn: int = 10) -> np.ndarray:\n",
    "        assert self.trained\n",
    "        # возвращаем для всех одно и то же\n",
    "        return [self.recommendations[:topn]] * len(df)\n",
    "\n",
    "\n",
    "toppop = TopPopular()\n",
    "toppop.fit(train_part)\n",
    "test_part[\"toppopular_recs\"] = toppop.predict(test_part)\n",
    "test_part.head()"
   ],
   "outputs": [
    {
     "data": {
      "text/plain": [
       "   user_id  \\\n",
       "0        0   \n",
       "1        1   \n",
       "2        2   \n",
       "3        3   \n",
       "4        4   \n",
       "\n",
       "                                                                                                                                                                                                                                                                                                                                                                                                                                                                                                                                                           movie_id  \\\n",
       "0                                                                                                                                                                                                                                                                                                                                                                                                                                                             [12.0, 6201.0, 5542.0, 2025.0, 190.0, 5358.0, 4495.0, 2744.0, 3882.0, 6450.0, 7179.0, 3516.0, 4426.0]   \n",
       "1                                                                                                      [2515.0, 1540.0, 5210.0, 1608.0, 3590.0, 7215.0, 3564.0, 1578.0, 4137.0, 3291.0, 6116.0, 308.0, 4152.0, 7211.0, 7370.0, 3174.0, 4664.0, 2207.0, 2835.0, 3242.0, 2590.0, 1760.0, 2925.0, 4715.0, 1281.0, 4473.0, 1715.0, 3512.0, 1098.0, 2952.0, 1270.0, 7108.0, 2226.0, 6626.0, 3329.0, 611.0, 4114.0, 4638.0, 1103.0, 5179.0, 4237.0, 4153.0, 2756.0, 3415.0, 5289.0, 157.0, 5293.0, 4127.0, 2145.0, 5653.0, 4588.0, 7110.0, 3464.0, 3727.0, 1811.0, 633.0]   \n",
       "2  [5998.0, 190.0, 7327.0, 947.0, 3814.0, 876.0, 7234.0, 5399.0, 3979.0, 2886.0, 3707.0, 4889.0, 558.0, 2355.0, 5070.0, 655.0, 4379.0, 1890.0, 7213.0, 5184.0, 6668.0, 442.0, 1671.0, 7186.0, 1163.0, 4081.0, 5133.0, 6295.0, 6201.0, 3866.0, 3148.0, 4730.0, 5500.0, 6164.0, 1161.0, 2413.0, 4263.0, 3559.0, 7154.0, 2707.0, 5336.0, 1322.0, 2591.0, 2553.0, 1849.0, 6252.0, 1188.0, 6412.0, 3150.0, 6855.0, 5458.0, 7084.0, 1166.0, 3415.0, 1909.0, 107.0, 4308.0, 1011.0, 5542.0, 6888.0, 2689.0, 4505.0, 5512.0, 6046.0, 1781.0, 3220.0, 892.0, 5007.0, 4868.0]   \n",
       "3                                                                                                                                                                                                                                                                                                                                                                                                                                    [4812.0, 3935.0, 802.0, 4459.0, 4340.0, 5975.0, 7274.0, 592.0, 1141.0, 1941.0, 5571.0, 5179.0, 7410.0, 7157.0, 1401.0, 3896.0]   \n",
       "4                                                                                                         [152.0, 195.0, 800.0, 2266.0, 6634.0, 7412.0, 3705.0, 1775.0, 2510.0, 5179.0, 6112.0, 2498.0, 167.0, 4151.0, 1380.0, 6345.0, 164.0, 6594.0, 5869.0, 2759.0, 1514.0, 2465.0, 5774.0, 117.0, 3718.0, 5802.0, 2970.0, 1876.0, 5914.0, 1267.0, 1671.0, 4445.0, 6569.0, 4879.0, 5230.0, 5447.0, 7065.0, 2859.0, 7328.0, 1281.0, 5849.0, 1488.0, 592.0, 5320.0, 4486.0, 1599.0, 6509.0, 1527.0, 6660.0, 5582.0, 1976.0, 4829.0, 3242.0, 2667.0, 2870.0, 1996.0]   \n",
       "\n",
       "                                                                  toppopular_recs  \n",
       "0  [484.0, 6194.0, 641.0, 2679.0, 2820.0, 5876.0, 5336.0, 2074.0, 1978.0, 2480.0]  \n",
       "1  [484.0, 6194.0, 641.0, 2679.0, 2820.0, 5876.0, 5336.0, 2074.0, 1978.0, 2480.0]  \n",
       "2  [484.0, 6194.0, 641.0, 2679.0, 2820.0, 5876.0, 5336.0, 2074.0, 1978.0, 2480.0]  \n",
       "3  [484.0, 6194.0, 641.0, 2679.0, 2820.0, 5876.0, 5336.0, 2074.0, 1978.0, 2480.0]  \n",
       "4  [484.0, 6194.0, 641.0, 2679.0, 2820.0, 5876.0, 5336.0, 2074.0, 1978.0, 2480.0]  "
      ],
      "text/html": [
       "<div>\n",
       "<style scoped>\n",
       "    .dataframe tbody tr th:only-of-type {\n",
       "        vertical-align: middle;\n",
       "    }\n",
       "\n",
       "    .dataframe tbody tr th {\n",
       "        vertical-align: top;\n",
       "    }\n",
       "\n",
       "    .dataframe thead th {\n",
       "        text-align: right;\n",
       "    }\n",
       "</style>\n",
       "<table border=\"1\" class=\"dataframe\">\n",
       "  <thead>\n",
       "    <tr style=\"text-align: right;\">\n",
       "      <th></th>\n",
       "      <th>user_id</th>\n",
       "      <th>movie_id</th>\n",
       "      <th>toppopular_recs</th>\n",
       "    </tr>\n",
       "  </thead>\n",
       "  <tbody>\n",
       "    <tr>\n",
       "      <th>0</th>\n",
       "      <td>0</td>\n",
       "      <td>[12.0, 6201.0, 5542.0, 2025.0, 190.0, 5358.0, 4495.0, 2744.0, 3882.0, 6450.0, 7179.0, 3516.0, 4426.0]</td>\n",
       "      <td>[484.0, 6194.0, 641.0, 2679.0, 2820.0, 5876.0, 5336.0, 2074.0, 1978.0, 2480.0]</td>\n",
       "    </tr>\n",
       "    <tr>\n",
       "      <th>1</th>\n",
       "      <td>1</td>\n",
       "      <td>[2515.0, 1540.0, 5210.0, 1608.0, 3590.0, 7215.0, 3564.0, 1578.0, 4137.0, 3291.0, 6116.0, 308.0, 4152.0, 7211.0, 7370.0, 3174.0, 4664.0, 2207.0, 2835.0, 3242.0, 2590.0, 1760.0, 2925.0, 4715.0, 1281.0, 4473.0, 1715.0, 3512.0, 1098.0, 2952.0, 1270.0, 7108.0, 2226.0, 6626.0, 3329.0, 611.0, 4114.0, 4638.0, 1103.0, 5179.0, 4237.0, 4153.0, 2756.0, 3415.0, 5289.0, 157.0, 5293.0, 4127.0, 2145.0, 5653.0, 4588.0, 7110.0, 3464.0, 3727.0, 1811.0, 633.0]</td>\n",
       "      <td>[484.0, 6194.0, 641.0, 2679.0, 2820.0, 5876.0, 5336.0, 2074.0, 1978.0, 2480.0]</td>\n",
       "    </tr>\n",
       "    <tr>\n",
       "      <th>2</th>\n",
       "      <td>2</td>\n",
       "      <td>[5998.0, 190.0, 7327.0, 947.0, 3814.0, 876.0, 7234.0, 5399.0, 3979.0, 2886.0, 3707.0, 4889.0, 558.0, 2355.0, 5070.0, 655.0, 4379.0, 1890.0, 7213.0, 5184.0, 6668.0, 442.0, 1671.0, 7186.0, 1163.0, 4081.0, 5133.0, 6295.0, 6201.0, 3866.0, 3148.0, 4730.0, 5500.0, 6164.0, 1161.0, 2413.0, 4263.0, 3559.0, 7154.0, 2707.0, 5336.0, 1322.0, 2591.0, 2553.0, 1849.0, 6252.0, 1188.0, 6412.0, 3150.0, 6855.0, 5458.0, 7084.0, 1166.0, 3415.0, 1909.0, 107.0, 4308.0, 1011.0, 5542.0, 6888.0, 2689.0, 4505.0, 5512.0, 6046.0, 1781.0, 3220.0, 892.0, 5007.0, 4868.0]</td>\n",
       "      <td>[484.0, 6194.0, 641.0, 2679.0, 2820.0, 5876.0, 5336.0, 2074.0, 1978.0, 2480.0]</td>\n",
       "    </tr>\n",
       "    <tr>\n",
       "      <th>3</th>\n",
       "      <td>3</td>\n",
       "      <td>[4812.0, 3935.0, 802.0, 4459.0, 4340.0, 5975.0, 7274.0, 592.0, 1141.0, 1941.0, 5571.0, 5179.0, 7410.0, 7157.0, 1401.0, 3896.0]</td>\n",
       "      <td>[484.0, 6194.0, 641.0, 2679.0, 2820.0, 5876.0, 5336.0, 2074.0, 1978.0, 2480.0]</td>\n",
       "    </tr>\n",
       "    <tr>\n",
       "      <th>4</th>\n",
       "      <td>4</td>\n",
       "      <td>[152.0, 195.0, 800.0, 2266.0, 6634.0, 7412.0, 3705.0, 1775.0, 2510.0, 5179.0, 6112.0, 2498.0, 167.0, 4151.0, 1380.0, 6345.0, 164.0, 6594.0, 5869.0, 2759.0, 1514.0, 2465.0, 5774.0, 117.0, 3718.0, 5802.0, 2970.0, 1876.0, 5914.0, 1267.0, 1671.0, 4445.0, 6569.0, 4879.0, 5230.0, 5447.0, 7065.0, 2859.0, 7328.0, 1281.0, 5849.0, 1488.0, 592.0, 5320.0, 4486.0, 1599.0, 6509.0, 1527.0, 6660.0, 5582.0, 1976.0, 4829.0, 3242.0, 2667.0, 2870.0, 1996.0]</td>\n",
       "      <td>[484.0, 6194.0, 641.0, 2679.0, 2820.0, 5876.0, 5336.0, 2074.0, 1978.0, 2480.0]</td>\n",
       "    </tr>\n",
       "  </tbody>\n",
       "</table>\n",
       "</div>"
      ]
     },
     "execution_count": 57,
     "metadata": {},
     "output_type": "execute_result"
    }
   ],
   "execution_count": 57
  },
  {
   "cell_type": "markdown",
   "id": "cf0dda28",
   "metadata": {},
   "source": [
    "##### Посмотрим на метрики, для этого передаем тестовый датафрейм и колонку с предсказаниями, в нашем случае это `toppopular_recs`  "
   ]
  },
  {
   "cell_type": "code",
   "id": "8fe15d27",
   "metadata": {
    "ExecuteTime": {
     "end_time": "2024-09-28T07:50:24.571335Z",
     "start_time": "2024-09-28T07:50:22.486741Z"
    }
   },
   "source": [
    "evaluate_recommender(df=test_part, model_preds_col=\"toppopular_recs\")\n"
   ],
   "outputs": [
    {
     "data": {
      "text/plain": [
       "{'ndcg': 0.1213225408775555, 'recall': 0.05789212284812527}"
      ]
     },
     "execution_count": 58,
     "metadata": {},
     "output_type": "execute_result"
    }
   ],
   "execution_count": 58
  },
  {
   "cell_type": "markdown",
   "id": "16812cd3",
   "metadata": {},
   "source": [
    "#### Не пугайтесь таких маленьких значений, в RecSys задачах часто очень тяжело подстроиться под данные, поэтому абсолютные значения невелики. Чтобы по-настоящему оценить качество вашей модели, нужно сранвить ее с каким-то простым решением, которое можно считать отправной точкой. Наш бейзлайн с популярными фильмами как раз подходит!"
   ]
  },
  {
   "cell_type": "markdown",
   "id": "5e86cf0f",
   "metadata": {},
   "source": [
    "### Теперь возьмем подход посложнее, уже математически подкованный\n",
    "Мы можем представить просмотры пользователей, как матрицу, где по столбцам будут отложены айтемы, а по строкам – пользователи. В `[i,j]` ячейке будет стоять 1, если пользователь смотрел фильм/сериал и 0, если нет.  \n",
    "Тогда нашей задачей будет разложить исходную матрицу на две: матрицу пользователей и матрицу айтемов, перемножив которые, мы бы максимально приблизили известные нам единички. \n",
    "Такой подход позволит нам заполнить все пропуски в нашей матрице, то есть все нули. \n",
    "\n",
    "Для этого метода будем использовать модель **Alternating Least Squares (ALS)**. Она оптимизирует наши матрицы таким образом, чтобы мы хорошо восстанавливали все единички. \n",
    "Подробнее про модель можно почитать в [документации](https://benfred.github.io/implicit/), или, например, [тут](https://medium.com/radon-dev/als-implicit-collaborative-filtering-5ed653ba39fe), или как всегда – в интернете.\n"
   ]
  },
  {
   "cell_type": "markdown",
   "id": "2b03c8a5-53ae-4d69-bb22-7f6fe17715eb",
   "metadata": {},
   "source": [
    "# Baseline #2 – Матричное разложение"
   ]
  },
  {
   "cell_type": "code",
   "execution_count": 53,
   "id": "a3e5a3af-287d-441b-84c9-2ab5c5efc7cf",
   "metadata": {},
   "outputs": [],
   "source": [
    "class ALS(BaseRecommender):\n",
    "    # здесь вынесены только основные гиперпараметры модели, все вы можете посмотреть в документации\n",
    "    def __init__(\n",
    "        self, factors: int = 100, regularization: float = 0.01, alpha: float = 1.0, iterations: int = 5, **kwargs\n",
    "    ) -> None:\n",
    "        super().__init__()\n",
    "        self.model = AlternatingLeastSquares(\n",
    "            factors=factors, regularization=regularization, alpha=alpha, iterations=iterations, **kwargs\n",
    "        )\n",
    "        self.trained = False\n",
    "\n",
    "    def fit(\n",
    "        self, df: pd.DataFrame, item_col: str = \"movie_id\", user_col: str = \"user_id\", value_col: str = None\n",
    "    ) -> None:\n",
    "        self.user_encoder = LabelEncoder()\n",
    "        self.item_encoder = LabelEncoder()\n",
    "        user_ids = self.user_encoder.fit_transform(df[user_col])\n",
    "        item_ids = self.item_encoder.fit_transform(df[item_col])\n",
    "        if value_col is None:\n",
    "            counts = np.ones(len(df))\n",
    "        else:\n",
    "            counts = df[value_col].values\n",
    "\n",
    "        matrix_shape = len(self.user_encoder.classes_), len(self.item_encoder.classes_)\n",
    "        self.sparse = csr_matrix((counts, (user_ids, item_ids)), shape=matrix_shape)\n",
    "        self.model.fit(self.sparse)\n",
    "\n",
    "        self.trained = True\n",
    "\n",
    "    def predict(self, df: pd.DataFrame, topn: int = 10) -> List[np.ndarray]:\n",
    "        assert self.trained\n",
    "\n",
    "        all_recs = []\n",
    "\n",
    "        users = self.user_encoder.transform(df[\"user_id\"])\n",
    "        for user in tqdm(users, desc=\"predicting\", leave=False):\n",
    "            encoded_rec_items = self.model.recommend(user, user_items=self.sparse[user], N=topn)[0]\n",
    "            all_recs.append(self.item_encoder.inverse_transform(encoded_rec_items))\n",
    "\n",
    "        return all_recs"
   ]
  },
  {
   "cell_type": "code",
   "execution_count": 54,
   "id": "4e10d6a9-87d3-4a34-874d-d2b82ec74592",
   "metadata": {},
   "outputs": [
    {
     "name": "stdout",
     "output_type": "stream",
     "text": [
      "(207377, 5269)\n"
     ]
    },
    {
     "name": "stderr",
     "output_type": "stream",
     "text": [
      "100%|██████████| 1/1 [00:00<00:00,  6.57it/s]\n",
      "                                                                   \r"
     ]
    }
   ],
   "source": [
    "als_rec = ALS(iterations=1, factors=2, random_state=42)\n",
    "als_rec.fit(train_part)\n",
    "test_part[\"als_recs\"] = als_rec.predict(test_part)"
   ]
  },
  {
   "cell_type": "markdown",
   "id": "9ec39e30",
   "metadata": {},
   "source": [
    "#### Снова считаем метрики "
   ]
  },
  {
   "cell_type": "code",
   "execution_count": 55,
   "id": "2d34c7bb-f449-46ea-843f-3ad6fc887520",
   "metadata": {},
   "outputs": [
    {
     "data": {
      "text/plain": [
       "{'ndcg': 0.07245869600756492, 'recall': 0.03303704639228699}"
      ]
     },
     "execution_count": 55,
     "metadata": {},
     "output_type": "execute_result"
    }
   ],
   "source": [
    "evaluate_recommender(test_part, model_preds_col=\"als_recs\")\n"
   ]
  },
  {
   "cell_type": "markdown",
   "id": "37b8a747",
   "metadata": {},
   "source": [
    "### Ой-ой, кажется, что качество стало хуже, чем у популярных фильмов. Возможно мы плохо обучили модель, не самым правильным образом обработали данные, или она просто не подходит для этих данных, в любом случае, вам предстоит узнать можно ли обогнать `toppop` на данном датасете."
   ]
  },
  {
   "cell_type": "markdown",
   "id": "4c34f0ff",
   "metadata": {},
   "source": [
    "## Сделаем небольшой EDA наших предсказаний от ALS."
   ]
  },
  {
   "cell_type": "markdown",
   "id": "11b70ede-e103-493c-8e69-bf6304881241",
   "metadata": {},
   "source": [
    "### Посмотрим, что наш алгоритм чаще всего рекомендует первым делом:"
   ]
  },
  {
   "cell_type": "code",
   "execution_count": 59,
   "id": "609502a7-b96f-4233-a209-e7ebedb53876",
   "metadata": {},
   "outputs": [
    {
     "data": {
      "image/png": "[encoded data removed]",
      "text/plain": [
       "<Figure size 640x480 with 1 Axes>"
      ]
     },
     "metadata": {},
     "output_type": "display_data"
    }
   ],
   "source": [
    "first_items = pd.DataFrame([x[0] for x in test_part[\"als_recs\"].values], columns=[\"id\"])\n",
    "first_items = (\n",
    "    first_items.merge(items_df[[\"id\", \"title\"]], on=\"id\").groupby(\"title\").size().sort_values(ascending=False)\n",
    ")\n",
    "first_items /= first_items.sum()\n",
    "first_items.head(10).plot(kind=\"bar\")\n",
    "plt.ylabel(\"Доля от всех рекомендаций\")\n",
    "plt.title(\"Распредление фильмов на первых местах\")\n",
    "plt.show()\n"
   ]
  },
  {
   "cell_type": "markdown",
   "id": "2301aa1d-d521-4aa7-b0b8-e4c05c1b8bfb",
   "metadata": {},
   "source": [
    "#### Посмотрим на похожие фильмы к фильму \"Аватар: Путь воды\", согласно als"
   ]
  },
  {
   "cell_type": "code",
   "execution_count": 69,
   "id": "a7d3e5ec-53ec-4271-98fd-cff5637e7085",
   "metadata": {},
   "outputs": [
    {
     "data": {
      "text/html": [
       "<div>\n",
       "<style scoped>\n",
       "    .dataframe tbody tr th:only-of-type {\n",
       "        vertical-align: middle;\n",
       "    }\n",
       "\n",
       "    .dataframe tbody tr th {\n",
       "        vertical-align: top;\n",
       "    }\n",
       "\n",
       "    .dataframe thead th {\n",
       "        text-align: right;\n",
       "    }\n",
       "</style>\n",
       "<table border=\"1\" class=\"dataframe\">\n",
       "  <thead>\n",
       "    <tr style=\"text-align: right;\">\n",
       "      <th></th>\n",
       "      <th>id</th>\n",
       "      <th>title</th>\n",
       "      <th>year</th>\n",
       "      <th>date_publication</th>\n",
       "      <th>description</th>\n",
       "      <th>genres</th>\n",
       "      <th>countries</th>\n",
       "      <th>staff</th>\n",
       "      <th>title_orig</th>\n",
       "      <th>age_rating</th>\n",
       "      <th>keywords</th>\n",
       "    </tr>\n",
       "  </thead>\n",
       "  <tbody>\n",
       "    <tr>\n",
       "      <th>484</th>\n",
       "      <td>484</td>\n",
       "      <td>Аватар: Путь воды</td>\n",
       "      <td>2023-01-01</td>\n",
       "      <td>2023-04-19T00:00:00</td>\n",
       "      <td>Джейк Салли живёт в образе аватара уже много л...</td>\n",
       "      <td>[158, 294, 266, 302]</td>\n",
       "      <td>[102]</td>\n",
       "      <td>[15325, 23343, 18928, 23330, 5187, 30892, 1481...</td>\n",
       "      <td>NaN</td>\n",
       "      <td>NaN</td>\n",
       "      <td>NaN</td>\n",
       "    </tr>\n",
       "  </tbody>\n",
       "</table>\n",
       "</div>"
      ],
      "text/plain": [
       "      id              title        year     date_publication  \\\n",
       "484  484  Аватар: Путь воды  2023-01-01  2023-04-19T00:00:00   \n",
       "\n",
       "                                           description                genres  \\\n",
       "484  Джейк Салли живёт в образе аватара уже много л...  [158, 294, 266, 302]   \n",
       "\n",
       "    countries                                              staff title_orig  \\\n",
       "484     [102]  [15325, 23343, 18928, 23330, 5187, 30892, 1481...        NaN   \n",
       "\n",
       "     age_rating keywords  \n",
       "484         NaN      NaN  "
      ]
     },
     "execution_count": 69,
     "metadata": {},
     "output_type": "execute_result"
    }
   ],
   "source": [
    "items_df[items_df[\"title\"] == 'Аватар: Путь воды']\n"
   ]
  },
  {
   "cell_type": "code",
   "execution_count": 72,
   "id": "2b1e6a5c-bbc2-4871-9a6c-71c2e63facef",
   "metadata": {},
   "outputs": [],
   "source": [
    "def get_similar_films(title, N=10):\n",
    "    item_id = items_df[items_df[\"title\"] == title]['id'].values[0]\n",
    "\n",
    "    similar_encoded_ids = als_rec.model.similar_items(\n",
    "        als_rec.item_encoder.transform([item_id]), N=N, filter_items=als_rec.item_encoder.transform([item_id])\n",
    "    )[0][0]\n",
    "    similar_ids = als_rec.item_encoder.inverse_transform(similar_encoded_ids)\n",
    "    return items_df[items_df[\"id\"].isin(similar_ids)][\"title\"]\n"
   ]
  },
  {
   "cell_type": "code",
   "execution_count": 73,
   "id": "b6f063d4-89d8-46e1-80c1-59ec2543ecd0",
   "metadata": {},
   "outputs": [
    {
     "data": {
      "text/plain": [
       "1667                                31 июня\n",
       "2848                   Великий уравнитель 2\n",
       "3078                      Безымянная звезда\n",
       "3088    Скандинавский форсаж: Гонки на льду\n",
       "4003                        Сердце из стали\n",
       "4584                            Проповедник\n",
       "5141    Сестрица Алёнушка и братец Иванушка\n",
       "6837                           Синяя бездна\n",
       "7043                         Обратная связь\n",
       "7343      Приключения на шоколадной фабрике\n",
       "Name: title, dtype: object"
      ]
     },
     "execution_count": 73,
     "metadata": {},
     "output_type": "execute_result"
    }
   ],
   "source": [
    "get_similar_films(\"Аватар: Путь воды\")"
   ]
  },
  {
   "cell_type": "markdown",
   "id": "47ae3b25-413b-4212-b6d9-a170986a8335",
   "metadata": {},
   "source": [
    "#### Получается, что \"Аватар: Путь воды\" и \"31 июня\" довольно близки.... возможно, возможно"
   ]
  },
  {
   "cell_type": "code",
   "execution_count": null,
   "id": "2016fc15-344b-44b5-85e0-2d8c3ad9e5c2",
   "metadata": {},
   "outputs": [],
   "source": []
  },
  {
   "cell_type": "code",
   "execution_count": null,
   "id": "96f26bed-0e33-4bb6-84af-b52986bd7ec2",
   "metadata": {},
   "outputs": [],
   "source": []
  },
  {
   "cell_type": "markdown",
   "id": "e764468f-5813-4c11-b074-f33f53682b24",
   "metadata": {},
   "source": [
    "# Так что же нужно сделать?\n",
    "\n",
    "### tl;dr – красивые визуализации, креативные подходы, различные модели\n",
    "\n",
    "**Мы не ставим перед вами задачу выбить лучший скор на тестовой выборке** (хотя это очень желательно), задание скорее в том, чтобы исследовать различные подходы, поискать инсайты в данных, построить красивый анализ своих предсказаний и поиграться с данными.\n",
    "\n",
    "Если говорить более формально, то мы будем оценивать следующее:\n",
    "1. Какие методы вы попробовали для решения задачи\n",
    "   ##### Это могут быть\n",
    "   * статистически подходы, основанные на вашем анализе данных\n",
    "   * классические метрические методы, вроде knn, а как посчитать вектора пользователей – пусть уже ваша фантазия вам диктует. Здесь вам помогут item-based модели, вроде EASE или SLIM\n",
    "   * затюненный или модифицированный ALS (ну или любая другая модель матричной факторизации)\n",
    "   * классические модели вроде градиентных бустингов (catboost, lightGBM) тоже работают в таких задачах (вам ведь ничего не мешает учить классификатор на просмотренный и непросмотренный фильмы, правда? осталось только насэмплить вторых)\n",
    "   * очень приветствуются (но не обязательны) DL подходы, например [DSSM](https://kishorepv.github.io/DSSM/), [NCF](https://towardsdatascience.com/neural-collaborative-filtering-96cef1009401), [Bert4Rec](https://towardsdatascience.com/build-your-own-movie-recommender-system-using-bert4rec-92e4e34938c5) или [любой другой алгоритм](https://habr.com/ru/companies/prequel/articles/573880/), который вы найдете, например графовые или дифузионные подходы, почему нет)\n",
    "     \n",
    "   В общем нет никаких ограничений на модели, используйте то, что вам нравится или кажется логичным. Не стоит бросаться в крайности: обучать целый зоопарк моделей или затюнить одну до 0 ошибки. Найдите баланс между количеством и качеством)\n",
    "2. Как хорошо вы валидировали свои модели\n",
    "3. EDA (Exploration Data Analysis) данных, с которыми вы работаете\n",
    "4. EDA полученных рекомендаций, насколько они разнообразные, насколько смещены в сторону популярных айтемов и всякое такое\n",
    "5. **Обязательно** сохраните свою лучшую модель (файлик обученной модели), чтобы мы могли воспроизвести ваш результат!\n",
    "\n",
    "\n",
    "## Помните:\n",
    "1. Все дополнительные источники данных **обязательно** должны быть описаны\n",
    "2. Нет правильного способа решить задачу. Не стоит беспокоиться, что вы делаете что-то неправильно. Мы хотим увидеть творческий подход и ваши способности к исследованию и прототипированию, а не какое-то конкретное решение задачи.\n",
    "3. Вы можете использовать любые библиотеки и фреймворки, которые вам могут быть необходимы.\n",
    "4. Сфокусируйтесь на том, чтобы код были чистый и понятный. Если вы считаете, что какая-то его часть может быть непонятна, то добавьте комментарии. Мы очень сильно ценим хорошо написанный код и выводы, поэтому если решение задачи будет оформлено грязно, то мы можем отклонить заявку.\n",
    "\n",
    "## Результат\n",
    "Мы ожидаем увидеть один или два (EDA + обучение моделей) ноутбук(а) на вашем [GitHub](https://github.com/) или ссылками на ваш [Google Colab](https://colab.research.google.com/?hl=ru).\n"
   ]
  },
  {
   "metadata": {},
   "cell_type": "markdown",
   "source": "проверим наличе связи между тем, сколько юзеры смотрят фильм и количеством кликов",
   "id": "12b4d168563f2361"
  },
  {
   "metadata": {
    "ExecuteTime": {
     "end_time": "2024-09-30T06:42:39.491064Z",
     "start_time": "2024-09-30T06:42:37.903858Z"
    }
   },
   "cell_type": "code",
   "source": [
    "import pandas as pd\n",
    "import matplotlib.pyplot as plt\n",
    "\n",
    "data_folder = \"./data_csv/\"\n",
    "train_part = pd.read_csv(data_folder + \"train_data.csv\", parse_dates=[\"datetime\"])\n",
    "items_df = pd.read_csv(data_folder + \"items_df.csv\")\n",
    "\n",
    "# Подсчет количества кликов на каждый фильм\n",
    "clicks_per_movie = train_part['movie_id'].value_counts().reset_index()\n",
    "clicks_per_movie.columns = ['movie_id', 'clicks']\n",
    "merged_df = pd.merge(clicks_per_movie, items_df, left_on='movie_id', right_on='id')\n",
    "merged_df = pd.merge(merged_df, train_part, left_on='movie_id', right_on='id')\n",
    "\n",
    "correlation = merged_df['clicks'].corr(merged_df['duration'], method='pearson')\n",
    "print(f\"Корреляция: {correlation}\")\n",
    "\n",
    "\n",
    "\n",
    "plt.scatter(merged_df['duration'], merged_df['clicks'])\n",
    "plt.xlabel('Продолжительность фильма')\n",
    "plt.ylabel('Количество кликов')\n",
    "plt.title('Корреляция между продолжительностью фильма и количеством кликов')\n",
    "plt.show()"
   ],
   "id": "a2c3c17e9c70069b",
   "outputs": [
    {
     "name": "stdout",
     "output_type": "stream",
     "text": [
      "Корреляция: -0.008703387702080026\n"
     ]
    },
    {
     "data": {
      "text/plain": [
       "<Figure size 640x480 with 1 Axes>"
      ],
      "image/png": "[encoded data removed]"
     },
     "metadata": {},
     "output_type": "display_data"
    }
   ],
   "execution_count": 111
  },
  {
   "metadata": {},
   "cell_type": "markdown",
   "source": "вывод: связи нет)))) тк проолжительность просмотра - чтото типа таргета, ровно как и количетво кликов, стоило лучше изучить данные перед тем как два таргета сравнивать\n",
   "id": "6d2219552842c93b"
  },
  {
   "metadata": {},
   "cell_type": "markdown",
   "source": "проверим гипотезы о корреляции между кликами (популярностью) и жанрами, количеством актеров",
   "id": "a83f6916591ef391"
  },
  {
   "metadata": {
    "ExecuteTime": {
     "end_time": "2024-09-27T13:30:12.329571Z",
     "start_time": "2024-09-27T13:30:12.322502Z"
    }
   },
   "cell_type": "code",
   "source": [
    "print(\"количество жанров\")\n",
    "correlation = merged_df['clicks'].corr(merged_df['genres'].apply(lambda x: len(x)), method='pearson')\n",
    "print(f\"Корреляция: {correlation}\")\n",
    "\n",
    "print(\"количество актеров\")\n",
    "correlation = merged_df['clicks'].corr(merged_df['staff'].apply(lambda x: len(x)), method='pearson')\n",
    "print(f\"Корреляция: {correlation}\")\n"
   ],
   "id": "2007ae3e0fe8b212",
   "outputs": [
    {
     "name": "stdout",
     "output_type": "stream",
     "text": [
      "количество жанров\n",
      "Корреляция: 0.2049636029690019\n",
      "количество актеров\n",
      "Корреляция: 0.09464232388401791\n"
     ]
    }
   ],
   "execution_count": 12
  },
  {
   "metadata": {},
   "cell_type": "markdown",
   "source": "вывод: чем больше указано жанров, тем больше воронка юзеров? попадает в большее количество фильтров/выборок",
   "id": "a525b3bff27639a0"
  },
  {
   "metadata": {
    "ExecuteTime": {
     "end_time": "2024-09-30T06:38:34.222141Z",
     "start_time": "2024-09-30T06:38:34.220525Z"
    }
   },
   "cell_type": "code",
   "source": "",
   "id": "4e451fad36e15bf3",
   "outputs": [],
   "execution_count": null
  },
  {
   "metadata": {
    "ExecuteTime": {
     "end_time": "2024-09-30T06:25:08.819921Z",
     "start_time": "2024-09-30T06:25:08.818173Z"
    }
   },
   "cell_type": "code",
   "source": [
    "from collections import Counter\n",
    "from pprint import pprint\n",
    "\n"
   ],
   "id": "27a20497564a52b6",
   "outputs": [],
   "execution_count": 109
  },
  {
   "metadata": {},
   "cell_type": "markdown",
   "source": [
    "построим модель которая будет опираться на популярность актеров, снимавшихся в фильме, будем строить рейтинг как в \"веселых стартах\" чем популярнее актер в рейтинге, тем меньше очков начислим фильму, потом отсортируем во неубыванию и получим рейтинг\n",
    " "
   ],
   "id": "679b263d6a95f9fa"
  },
  {
   "metadata": {
    "ExecuteTime": {
     "end_time": "2024-09-30T05:34:57.451097Z",
     "start_time": "2024-09-30T05:34:55.870203Z"
    }
   },
   "cell_type": "code",
   "source": [
    "class TopStaff(BaseRecommender):\n",
    "    def __init__(self):\n",
    "        super().__init__()\n",
    "\n",
    "    def fit(self, df: pd.DataFrame, item_id_col: str = \"movie_id\") -> None:\n",
    "        # строим топ актеров\n",
    "        staff = []\n",
    "        for s in df.staff:\n",
    "            staff_cur = [i for i in s[1:-1].split(', ') if i]\n",
    "            staff += list(map(int, staff_cur))\n",
    "\n",
    "        staff_top = [x[0] for x in sorted(Counter(staff_u).items(), key=lambda x: x[1], reverse=True)]\n",
    "        rating = { k: i for i, k in enumerate(staff_top) }\n",
    "        # строим топ фильмов по актерам\n",
    "        staff_score = []\n",
    "        for s in df.staff:\n",
    "            staff_score.append(sum(rating[int(i)] for i in s[1:-1].split(\", \") if i and int(i) in rating))\n",
    "        \n",
    "        df = pd.concat([df, pd.DataFrame(staff_score, columns=[\"staff_score\"])])\n",
    "        df = df.sort_values(by=[\"staff_score\"])\n",
    "        \n",
    "        self.recommendations = tuple(df.index)\n",
    "        self.trained = True\n",
    "\n",
    "    def predict(self, df: pd.DataFrame, topn: int = 10) -> np.ndarray:\n",
    "        assert self.trained\n",
    "        # возвращаем для всех одно и то же\n",
    "        return [self.recommendations[:topn]] * len(df)\n",
    "\n",
    "\n",
    "\n",
    "merged_df = pd.merge(train_part, items_df, left_on='id', right_on='id')\n",
    "\n",
    "\n",
    "topstaff = TopStaff()\n",
    "topstaff.fit(merged_df)\n",
    "test_part[\"topstaff_recs\"] = topstaff.predict(test_part)\n",
    "test_part.head()\n",
    "\n",
    "evaluate_recommender(test_part, model_preds_col=\"topstaff_recs\")"
   ],
   "id": "2c4741e59fd9a552",
   "outputs": [
    {
     "data": {
      "text/plain": [
       "{'ndcg': 0.023047200310688, 'recall': 0.008731060901671287}"
      ]
     },
     "execution_count": 105,
     "metadata": {},
     "output_type": "execute_result"
    }
   ],
   "execution_count": 105
  },
  {
   "metadata": {
    "ExecuteTime": {
     "end_time": "2024-09-30T05:35:04.250449Z",
     "start_time": "2024-09-30T05:35:04.241794Z"
    }
   },
   "cell_type": "code",
   "source": "test_part",
   "id": "b0895ffac8a56cef",
   "outputs": [
    {
     "data": {
      "text/plain": [
       "       user_id  \\\n",
       "0            0   \n",
       "1            1   \n",
       "2            2   \n",
       "3            3   \n",
       "4            4   \n",
       "...        ...   \n",
       "66895   176506   \n",
       "66896   176519   \n",
       "66897   176525   \n",
       "66898   176531   \n",
       "66899   176532   \n",
       "\n",
       "                                                                                                                                                                                                                                                                                                                                                                                                                                                                                                                                                               movie_id  \\\n",
       "0                                                                                                                                                                                                                                                                                                                                                                                                                                                                 [12.0, 6201.0, 5542.0, 2025.0, 190.0, 5358.0, 4495.0, 2744.0, 3882.0, 6450.0, 7179.0, 3516.0, 4426.0]   \n",
       "1                                                                                                          [2515.0, 1540.0, 5210.0, 1608.0, 3590.0, 7215.0, 3564.0, 1578.0, 4137.0, 3291.0, 6116.0, 308.0, 4152.0, 7211.0, 7370.0, 3174.0, 4664.0, 2207.0, 2835.0, 3242.0, 2590.0, 1760.0, 2925.0, 4715.0, 1281.0, 4473.0, 1715.0, 3512.0, 1098.0, 2952.0, 1270.0, 7108.0, 2226.0, 6626.0, 3329.0, 611.0, 4114.0, 4638.0, 1103.0, 5179.0, 4237.0, 4153.0, 2756.0, 3415.0, 5289.0, 157.0, 5293.0, 4127.0, 2145.0, 5653.0, 4588.0, 7110.0, 3464.0, 3727.0, 1811.0, 633.0]   \n",
       "2      [5998.0, 190.0, 7327.0, 947.0, 3814.0, 876.0, 7234.0, 5399.0, 3979.0, 2886.0, 3707.0, 4889.0, 558.0, 2355.0, 5070.0, 655.0, 4379.0, 1890.0, 7213.0, 5184.0, 6668.0, 442.0, 1671.0, 7186.0, 1163.0, 4081.0, 5133.0, 6295.0, 6201.0, 3866.0, 3148.0, 4730.0, 5500.0, 6164.0, 1161.0, 2413.0, 4263.0, 3559.0, 7154.0, 2707.0, 5336.0, 1322.0, 2591.0, 2553.0, 1849.0, 6252.0, 1188.0, 6412.0, 3150.0, 6855.0, 5458.0, 7084.0, 1166.0, 3415.0, 1909.0, 107.0, 4308.0, 1011.0, 5542.0, 6888.0, 2689.0, 4505.0, 5512.0, 6046.0, 1781.0, 3220.0, 892.0, 5007.0, 4868.0]   \n",
       "3                                                                                                                                                                                                                                                                                                                                                                                                                                        [4812.0, 3935.0, 802.0, 4459.0, 4340.0, 5975.0, 7274.0, 592.0, 1141.0, 1941.0, 5571.0, 5179.0, 7410.0, 7157.0, 1401.0, 3896.0]   \n",
       "4                                                                                                             [152.0, 195.0, 800.0, 2266.0, 6634.0, 7412.0, 3705.0, 1775.0, 2510.0, 5179.0, 6112.0, 2498.0, 167.0, 4151.0, 1380.0, 6345.0, 164.0, 6594.0, 5869.0, 2759.0, 1514.0, 2465.0, 5774.0, 117.0, 3718.0, 5802.0, 2970.0, 1876.0, 5914.0, 1267.0, 1671.0, 4445.0, 6569.0, 4879.0, 5230.0, 5447.0, 7065.0, 2859.0, 7328.0, 1281.0, 5849.0, 1488.0, 592.0, 5320.0, 4486.0, 1599.0, 6509.0, 1527.0, 6660.0, 5582.0, 1976.0, 4829.0, 3242.0, 2667.0, 2870.0, 1996.0]   \n",
       "...                                                                                                                                                                                                                                                                                                                                                                                                                                                                                                                                                                 ...   \n",
       "66895                                                                                                                                                                                                                                                                                                                                                                                                                                                                                                                                                          [1515.0]   \n",
       "66896                                                                                                                                                                                                                                                                                                                                                                                                                                                                                                                                                          [4167.0]   \n",
       "66897                                                                                                                                                                                                                                                                                                                                                                                                                                                                                                                                                          [5947.0]   \n",
       "66898                                                                                                                                                                                                                                                                                                                                                                                                                                                                                                                                                          [5514.0]   \n",
       "66899                                                                                                                                                                                                                                                                                                                                                                                                                                                                                                                                                          [2429.0]   \n",
       "\n",
       "                                                                      toppopular_recs  \\\n",
       "0      [484.0, 6194.0, 641.0, 2679.0, 2820.0, 5876.0, 5336.0, 2074.0, 1978.0, 2480.0]   \n",
       "1      [484.0, 6194.0, 641.0, 2679.0, 2820.0, 5876.0, 5336.0, 2074.0, 1978.0, 2480.0]   \n",
       "2      [484.0, 6194.0, 641.0, 2679.0, 2820.0, 5876.0, 5336.0, 2074.0, 1978.0, 2480.0]   \n",
       "3      [484.0, 6194.0, 641.0, 2679.0, 2820.0, 5876.0, 5336.0, 2074.0, 1978.0, 2480.0]   \n",
       "4      [484.0, 6194.0, 641.0, 2679.0, 2820.0, 5876.0, 5336.0, 2074.0, 1978.0, 2480.0]   \n",
       "...                                                                               ...   \n",
       "66895  [484.0, 6194.0, 641.0, 2679.0, 2820.0, 5876.0, 5336.0, 2074.0, 1978.0, 2480.0]   \n",
       "66896  [484.0, 6194.0, 641.0, 2679.0, 2820.0, 5876.0, 5336.0, 2074.0, 1978.0, 2480.0]   \n",
       "66897  [484.0, 6194.0, 641.0, 2679.0, 2820.0, 5876.0, 5336.0, 2074.0, 1978.0, 2480.0]   \n",
       "66898  [484.0, 6194.0, 641.0, 2679.0, 2820.0, 5876.0, 5336.0, 2074.0, 1978.0, 2480.0]   \n",
       "66899  [484.0, 6194.0, 641.0, 2679.0, 2820.0, 5876.0, 5336.0, 2074.0, 1978.0, 2480.0]   \n",
       "\n",
       "                                                      topstaff_recs  \n",
       "0      (6987, 1985, 5926, 4372, 5918, 5914, 4373, 1982, 1978, 4376)  \n",
       "1      (6987, 1985, 5926, 4372, 5918, 5914, 4373, 1982, 1978, 4376)  \n",
       "2      (6987, 1985, 5926, 4372, 5918, 5914, 4373, 1982, 1978, 4376)  \n",
       "3      (6987, 1985, 5926, 4372, 5918, 5914, 4373, 1982, 1978, 4376)  \n",
       "4      (6987, 1985, 5926, 4372, 5918, 5914, 4373, 1982, 1978, 4376)  \n",
       "...                                                             ...  \n",
       "66895  (6987, 1985, 5926, 4372, 5918, 5914, 4373, 1982, 1978, 4376)  \n",
       "66896  (6987, 1985, 5926, 4372, 5918, 5914, 4373, 1982, 1978, 4376)  \n",
       "66897  (6987, 1985, 5926, 4372, 5918, 5914, 4373, 1982, 1978, 4376)  \n",
       "66898  (6987, 1985, 5926, 4372, 5918, 5914, 4373, 1982, 1978, 4376)  \n",
       "66899  (6987, 1985, 5926, 4372, 5918, 5914, 4373, 1982, 1978, 4376)  \n",
       "\n",
       "[66900 rows x 4 columns]"
      ],
      "text/html": [
       "<div>\n",
       "<style scoped>\n",
       "    .dataframe tbody tr th:only-of-type {\n",
       "        vertical-align: middle;\n",
       "    }\n",
       "\n",
       "    .dataframe tbody tr th {\n",
       "        vertical-align: top;\n",
       "    }\n",
       "\n",
       "    .dataframe thead th {\n",
       "        text-align: right;\n",
       "    }\n",
       "</style>\n",
       "<table border=\"1\" class=\"dataframe\">\n",
       "  <thead>\n",
       "    <tr style=\"text-align: right;\">\n",
       "      <th></th>\n",
       "      <th>user_id</th>\n",
       "      <th>movie_id</th>\n",
       "      <th>toppopular_recs</th>\n",
       "      <th>topstaff_recs</th>\n",
       "    </tr>\n",
       "  </thead>\n",
       "  <tbody>\n",
       "    <tr>\n",
       "      <th>0</th>\n",
       "      <td>0</td>\n",
       "      <td>[12.0, 6201.0, 5542.0, 2025.0, 190.0, 5358.0, 4495.0, 2744.0, 3882.0, 6450.0, 7179.0, 3516.0, 4426.0]</td>\n",
       "      <td>[484.0, 6194.0, 641.0, 2679.0, 2820.0, 5876.0, 5336.0, 2074.0, 1978.0, 2480.0]</td>\n",
       "      <td>(6987, 1985, 5926, 4372, 5918, 5914, 4373, 1982, 1978, 4376)</td>\n",
       "    </tr>\n",
       "    <tr>\n",
       "      <th>1</th>\n",
       "      <td>1</td>\n",
       "      <td>[2515.0, 1540.0, 5210.0, 1608.0, 3590.0, 7215.0, 3564.0, 1578.0, 4137.0, 3291.0, 6116.0, 308.0, 4152.0, 7211.0, 7370.0, 3174.0, 4664.0, 2207.0, 2835.0, 3242.0, 2590.0, 1760.0, 2925.0, 4715.0, 1281.0, 4473.0, 1715.0, 3512.0, 1098.0, 2952.0, 1270.0, 7108.0, 2226.0, 6626.0, 3329.0, 611.0, 4114.0, 4638.0, 1103.0, 5179.0, 4237.0, 4153.0, 2756.0, 3415.0, 5289.0, 157.0, 5293.0, 4127.0, 2145.0, 5653.0, 4588.0, 7110.0, 3464.0, 3727.0, 1811.0, 633.0]</td>\n",
       "      <td>[484.0, 6194.0, 641.0, 2679.0, 2820.0, 5876.0, 5336.0, 2074.0, 1978.0, 2480.0]</td>\n",
       "      <td>(6987, 1985, 5926, 4372, 5918, 5914, 4373, 1982, 1978, 4376)</td>\n",
       "    </tr>\n",
       "    <tr>\n",
       "      <th>2</th>\n",
       "      <td>2</td>\n",
       "      <td>[5998.0, 190.0, 7327.0, 947.0, 3814.0, 876.0, 7234.0, 5399.0, 3979.0, 2886.0, 3707.0, 4889.0, 558.0, 2355.0, 5070.0, 655.0, 4379.0, 1890.0, 7213.0, 5184.0, 6668.0, 442.0, 1671.0, 7186.0, 1163.0, 4081.0, 5133.0, 6295.0, 6201.0, 3866.0, 3148.0, 4730.0, 5500.0, 6164.0, 1161.0, 2413.0, 4263.0, 3559.0, 7154.0, 2707.0, 5336.0, 1322.0, 2591.0, 2553.0, 1849.0, 6252.0, 1188.0, 6412.0, 3150.0, 6855.0, 5458.0, 7084.0, 1166.0, 3415.0, 1909.0, 107.0, 4308.0, 1011.0, 5542.0, 6888.0, 2689.0, 4505.0, 5512.0, 6046.0, 1781.0, 3220.0, 892.0, 5007.0, 4868.0]</td>\n",
       "      <td>[484.0, 6194.0, 641.0, 2679.0, 2820.0, 5876.0, 5336.0, 2074.0, 1978.0, 2480.0]</td>\n",
       "      <td>(6987, 1985, 5926, 4372, 5918, 5914, 4373, 1982, 1978, 4376)</td>\n",
       "    </tr>\n",
       "    <tr>\n",
       "      <th>3</th>\n",
       "      <td>3</td>\n",
       "      <td>[4812.0, 3935.0, 802.0, 4459.0, 4340.0, 5975.0, 7274.0, 592.0, 1141.0, 1941.0, 5571.0, 5179.0, 7410.0, 7157.0, 1401.0, 3896.0]</td>\n",
       "      <td>[484.0, 6194.0, 641.0, 2679.0, 2820.0, 5876.0, 5336.0, 2074.0, 1978.0, 2480.0]</td>\n",
       "      <td>(6987, 1985, 5926, 4372, 5918, 5914, 4373, 1982, 1978, 4376)</td>\n",
       "    </tr>\n",
       "    <tr>\n",
       "      <th>4</th>\n",
       "      <td>4</td>\n",
       "      <td>[152.0, 195.0, 800.0, 2266.0, 6634.0, 7412.0, 3705.0, 1775.0, 2510.0, 5179.0, 6112.0, 2498.0, 167.0, 4151.0, 1380.0, 6345.0, 164.0, 6594.0, 5869.0, 2759.0, 1514.0, 2465.0, 5774.0, 117.0, 3718.0, 5802.0, 2970.0, 1876.0, 5914.0, 1267.0, 1671.0, 4445.0, 6569.0, 4879.0, 5230.0, 5447.0, 7065.0, 2859.0, 7328.0, 1281.0, 5849.0, 1488.0, 592.0, 5320.0, 4486.0, 1599.0, 6509.0, 1527.0, 6660.0, 5582.0, 1976.0, 4829.0, 3242.0, 2667.0, 2870.0, 1996.0]</td>\n",
       "      <td>[484.0, 6194.0, 641.0, 2679.0, 2820.0, 5876.0, 5336.0, 2074.0, 1978.0, 2480.0]</td>\n",
       "      <td>(6987, 1985, 5926, 4372, 5918, 5914, 4373, 1982, 1978, 4376)</td>\n",
       "    </tr>\n",
       "    <tr>\n",
       "      <th>...</th>\n",
       "      <td>...</td>\n",
       "      <td>...</td>\n",
       "      <td>...</td>\n",
       "      <td>...</td>\n",
       "    </tr>\n",
       "    <tr>\n",
       "      <th>66895</th>\n",
       "      <td>176506</td>\n",
       "      <td>[1515.0]</td>\n",
       "      <td>[484.0, 6194.0, 641.0, 2679.0, 2820.0, 5876.0, 5336.0, 2074.0, 1978.0, 2480.0]</td>\n",
       "      <td>(6987, 1985, 5926, 4372, 5918, 5914, 4373, 1982, 1978, 4376)</td>\n",
       "    </tr>\n",
       "    <tr>\n",
       "      <th>66896</th>\n",
       "      <td>176519</td>\n",
       "      <td>[4167.0]</td>\n",
       "      <td>[484.0, 6194.0, 641.0, 2679.0, 2820.0, 5876.0, 5336.0, 2074.0, 1978.0, 2480.0]</td>\n",
       "      <td>(6987, 1985, 5926, 4372, 5918, 5914, 4373, 1982, 1978, 4376)</td>\n",
       "    </tr>\n",
       "    <tr>\n",
       "      <th>66897</th>\n",
       "      <td>176525</td>\n",
       "      <td>[5947.0]</td>\n",
       "      <td>[484.0, 6194.0, 641.0, 2679.0, 2820.0, 5876.0, 5336.0, 2074.0, 1978.0, 2480.0]</td>\n",
       "      <td>(6987, 1985, 5926, 4372, 5918, 5914, 4373, 1982, 1978, 4376)</td>\n",
       "    </tr>\n",
       "    <tr>\n",
       "      <th>66898</th>\n",
       "      <td>176531</td>\n",
       "      <td>[5514.0]</td>\n",
       "      <td>[484.0, 6194.0, 641.0, 2679.0, 2820.0, 5876.0, 5336.0, 2074.0, 1978.0, 2480.0]</td>\n",
       "      <td>(6987, 1985, 5926, 4372, 5918, 5914, 4373, 1982, 1978, 4376)</td>\n",
       "    </tr>\n",
       "    <tr>\n",
       "      <th>66899</th>\n",
       "      <td>176532</td>\n",
       "      <td>[2429.0]</td>\n",
       "      <td>[484.0, 6194.0, 641.0, 2679.0, 2820.0, 5876.0, 5336.0, 2074.0, 1978.0, 2480.0]</td>\n",
       "      <td>(6987, 1985, 5926, 4372, 5918, 5914, 4373, 1982, 1978, 4376)</td>\n",
       "    </tr>\n",
       "  </tbody>\n",
       "</table>\n",
       "<p>66900 rows × 4 columns</p>\n",
       "</div>"
      ]
     },
     "execution_count": 107,
     "metadata": {},
     "output_type": "execute_result"
    }
   ],
   "execution_count": 107
  },
  {
   "metadata": {},
   "cell_type": "markdown",
   "source": "Вывод: гипотеза не очень зашла, очень узкая информация для того чтобы сделать вывод о популярности фильма, думаю что рекомендатор по популярным фильмам аггрегирует в себе и этот подход в том числе неявно",
   "id": "38f1c3635b31683c"
  },
  {
   "metadata": {
    "ExecuteTime": {
     "end_time": "2024-09-30T06:37:43.798368Z",
     "start_time": "2024-09-30T06:37:43.797115Z"
    }
   },
   "cell_type": "code",
   "outputs": [],
   "execution_count": null,
   "source": "",
   "id": "dbb8603e876331d1"
  },
  {
   "metadata": {
    "ExecuteTime": {
     "end_time": "2024-09-30T06:37:36.084085Z",
     "start_time": "2024-09-30T06:37:36.082606Z"
    }
   },
   "cell_type": "code",
   "source": "",
   "id": "e730e3eff2e6d0c8",
   "outputs": [],
   "execution_count": null
  },
  {
   "metadata": {
    "ExecuteTime": {
     "end_time": "2024-09-30T06:37:29.575770Z",
     "start_time": "2024-09-30T06:37:29.574473Z"
    }
   },
   "cell_type": "code",
   "source": "",
   "id": "b6e2c4875b1d6b1f",
   "outputs": [],
   "execution_count": null
  },
  {
   "metadata": {
    "ExecuteTime": {
     "end_time": "2024-09-30T06:37:26.821564Z",
     "start_time": "2024-09-30T06:37:26.820039Z"
    }
   },
   "cell_type": "code",
   "source": "",
   "id": "5363390085d0f046",
   "outputs": [],
   "execution_count": null
  },
  {
   "metadata": {
    "ExecuteTime": {
     "end_time": "2024-09-30T06:37:56.535726Z",
     "start_time": "2024-09-30T06:37:56.534212Z"
    }
   },
   "cell_type": "code",
   "source": "",
   "id": "3b18aa7ac9070cc",
   "outputs": [],
   "execution_count": null
  },
  {
   "metadata": {},
   "cell_type": "code",
   "outputs": [],
   "execution_count": null,
   "source": "",
   "id": "741a3f02db378833"
  }
 ],
 "metadata": {
  "kernelspec": {
   "display_name": "Python 3 (ipykernel)",
   "language": "python",
   "name": "python3"
  },
  "language_info": {
   "codemirror_mode": {
    "name": "ipython",
    "version": 3
   },
   "file_extension": ".py",
   "mimetype": "text/x-python",
   "name": "python",
   "nbconvert_exporter": "python",
   "pygments_lexer": "ipython3",
   "version": "3.10.14"
  }
 },
 "nbformat": 4,
 "nbformat_minor": 5
}
